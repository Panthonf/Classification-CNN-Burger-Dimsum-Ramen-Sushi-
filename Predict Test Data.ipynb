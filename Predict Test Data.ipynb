{
 "cells": [
  {
   "cell_type": "code",
   "execution_count": 3,
   "metadata": {},
   "outputs": [],
   "source": [
    "from keras.models import load_model\n",
    "import numpy as np\n",
    "import os\n",
    "import cv2"
   ]
  },
  {
   "cell_type": "code",
   "execution_count": 4,
   "metadata": {},
   "outputs": [
    {
     "name": "stdout",
     "output_type": "stream",
     "text": [
      "16/16 [==============================] - 4s 193ms/step\n"
     ]
    }
   ],
   "source": [
    "\n",
    "# load the saved model\n",
    "model = load_model('my_model.h5')\n",
    "\n",
    "# Define the class names\n",
    "class_names = ['B', 'D', 'R', 'S']\n",
    "\n",
    "# Define the test data directory\n",
    "test_dir = r'C:\\Users\\Lenovo\\Desktop\\Term 2-2565\\Computer Vision - 261458\\Classification-CNN-Burger-Dimsum-Ramen-Sushi-\\test images\\test images'\n",
    "\n",
    "# Define the test data\n",
    "x_test = []\n",
    "image_names = []\n",
    "\n",
    "# Loop through the images in the test directory\n",
    "for image_file in os.listdir(test_dir):\n",
    "    if image_file.endswith('.jpg'):\n",
    "        image_path = os.path.join(test_dir, image_file)\n",
    "        # Load the image\n",
    "        img = cv2.imread(image_path)\n",
    "        img = cv2.resize(img, (160, 160))\n",
    "        img = img.astype('float') / 255.0\n",
    "        # Add the image and name to the lists\n",
    "        x_test.append(img)\n",
    "        image_names.append(image_file)\n",
    "\n",
    "# Convert the test data to a numpy array\n",
    "x_test = np.array(x_test)\n",
    "\n",
    "# Use the model to make predictions\n",
    "predictions = model.predict(x_test)\n",
    "\n",
    "# Get the class predictions and confidence scores\n",
    "class_preds = predictions.argmax(axis=1)\n",
    "confidences = np.max(predictions, axis=-1)\n",
    "\n"
   ]
  },
  {
   "cell_type": "code",
   "execution_count": 5,
   "metadata": {},
   "outputs": [],
   "source": [
    "# Write the predictions to a file\n",
    "with open('result.txt', 'w') as f:\n",
    "    for i in range(len(image_names)):\n",
    "        image_name = image_names[i]\n",
    "        class_name = class_names[class_preds[i]]\n",
    "        confidence = confidences[i]\n",
    "        f.write(\"{}::{}\\n\".format(image_name, class_name))"
   ]
  }
 ],
 "metadata": {
  "kernelspec": {
   "display_name": "Python 3",
   "language": "python",
   "name": "python3"
  },
  "language_info": {
   "codemirror_mode": {
    "name": "ipython",
    "version": 3
   },
   "file_extension": ".py",
   "mimetype": "text/x-python",
   "name": "python",
   "nbconvert_exporter": "python",
   "pygments_lexer": "ipython3",
   "version": "3.11.1"
  },
  "orig_nbformat": 4
 },
 "nbformat": 4,
 "nbformat_minor": 2
}
