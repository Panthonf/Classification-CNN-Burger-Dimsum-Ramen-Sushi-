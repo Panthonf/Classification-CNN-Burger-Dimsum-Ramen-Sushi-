{
 "cells": [
  {
   "cell_type": "code",
   "execution_count": 6,
   "metadata": {},
   "outputs": [],
   "source": [
    "import os\n",
    "import numpy as np\n",
    "import random\n",
    "import shutil\n",
    "from sklearn.model_selection import train_test_split\n",
    "\n",
    "# Set path to image directory\n",
    "Class = \"\\Sushi\"\n",
    "image_dir = r'C:\\Users\\Lenovo\\Desktop\\Classification-CNN-Burger-Dimsum-Ramen-Sushi-\\Dataset\\Dataset' + Class\n",
    "\n",
    "# Set path to output directory\n",
    "output_dir = r'C:\\Users\\Lenovo\\Desktop\\Classification-CNN-Burger-Dimsum-Ramen-Sushi-\\Dataset'\n",
    "\n",
    "# Create directories for train, validation, and test sets\n",
    "train_dir = os.path.join(output_dir, 'train'+Class)\n",
    "val_dir = os.path.join(output_dir, 'val'+Class)\n",
    "test_dir = os.path.join(output_dir, 'test'+Class)\n",
    "os.makedirs(train_dir, exist_ok=True)\n",
    "os.makedirs(val_dir, exist_ok=True)\n",
    "os.makedirs(test_dir, exist_ok=True)\n",
    "\n",
    "\n",
    "# Set percentage split for train, validation, and test sets\n",
    "train_pct = 0.8\n",
    "val_pct = 0.1\n",
    "test_pct = 0.1\n",
    "\n",
    "# Get list of image files\n",
    "image_files = os.listdir(image_dir)\n",
    "random.shuffle(image_files)\n",
    "\n",
    "# Calculate number of images for each set based on percentage split\n",
    "num_images = len(image_files)\n",
    "num_train = int(num_images * train_pct)\n",
    "num_val = int(num_images * val_pct)\n",
    "num_test = num_images - num_train - num_val\n",
    "\n",
    "# Loop through image files\n",
    "for i, filename in enumerate(image_files):\n",
    "    if filename.endswith('.jpg'):\n",
    "        # Assign image to appropriate set based on percentage split\n",
    "        if i < num_train:\n",
    "            dest_dir = train_dir\n",
    "        elif i < num_train + num_val:\n",
    "            dest_dir = val_dir\n",
    "        else:\n",
    "            dest_dir = test_dir\n",
    "\n",
    "        # Copy image to appropriate directory with new filename\n",
    "        src_path = os.path.join(image_dir, filename)\n",
    "        \n",
    "        dest_path = os.path.join(dest_dir, filename)\n",
    "        shutil.copy(src_path, dest_path)"
   ]
  },
  {
   "cell_type": "markdown",
   "metadata": {},
   "source": []
  }
 ],
 "metadata": {
  "kernelspec": {
   "display_name": "Python 3",
   "language": "python",
   "name": "python3"
  },
  "language_info": {
   "codemirror_mode": {
    "name": "ipython",
    "version": 3
   },
   "file_extension": ".py",
   "mimetype": "text/x-python",
   "name": "python",
   "nbconvert_exporter": "python",
   "pygments_lexer": "ipython3",
   "version": "3.11.1"
  },
  "orig_nbformat": 4
 },
 "nbformat": 4,
 "nbformat_minor": 2
}
