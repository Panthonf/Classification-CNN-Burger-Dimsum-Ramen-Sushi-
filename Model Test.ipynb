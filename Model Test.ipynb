{
 "cells": [
  {
   "cell_type": "code",
   "execution_count": 7,
   "metadata": {},
   "outputs": [],
   "source": [
    "from keras.models import load_model\n",
    "from keras.models import Model\n",
    "from keras.layers import Input, Dense, Conv2D, MaxPool2D, Flatten, Dropout\n",
    "from keras.utils import to_categorical\n",
    "from sklearn.metrics import confusion_matrix\n",
    "from keras.optimizers import Adam\n",
    "from keras.utils.vis_utils import plot_model\n",
    "import matplotlib.pyplot as plt\n",
    "import numpy as np\n",
    "import cv2\n",
    "import os"
   ]
  },
  {
   "cell_type": "code",
   "execution_count": 8,
   "metadata": {},
   "outputs": [],
   "source": [
    "# load the saved model\n",
    "model = load_model('my_model.h5')"
   ]
  },
  {
   "cell_type": "code",
   "execution_count": 9,
   "metadata": {},
   "outputs": [
    {
     "name": "stdout",
     "output_type": "stream",
     "text": [
      "x_test (200, 50, 50, 1)\n",
      "y_test (200, 4)\n"
     ]
    }
   ],
   "source": [
    "N = 200\n",
    "x_test = np.zeros((N, 50, 50, 1), 'float')\n",
    "y_test = np.zeros((N), 'float')\n",
    "\n",
    "count = 0\n",
    "class_labels = sorted(os.listdir(\"Dataset/test\"))\n",
    "for i, class_label in enumerate(class_labels):\n",
    "    image_files = sorted(os.listdir(os.path.join(\"Dataset/test\", class_label)))\n",
    "    for image_file in image_files:\n",
    "        im = cv2.imread(os.path.join(\"Dataset/test\", class_label, image_file), cv2.IMREAD_GRAYSCALE)\n",
    "        im = cv2.resize(im, (50, 50))\n",
    "        x_test[count, :, :, 0] = im / 255.\n",
    "        y_test[count] = i\n",
    "        count += 1\n",
    "\n",
    "y_test = to_categorical(y_test)\n",
    "print('x_test', x_test.shape)\n",
    "print('y_test', y_test.shape)"
   ]
  },
  {
   "cell_type": "code",
   "execution_count": 10,
   "metadata": {},
   "outputs": [
    {
     "name": "stdout",
     "output_type": "stream",
     "text": [
      "7/7 [==============================] - 0s 5ms/step\n"
     ]
    }
   ],
   "source": [
    "# use the model to make predictions\n",
    "predictions = model.predict(x_test)\n",
    "\n",
    "# Get the class predictions and confidence scores\n",
    "class_preds = predictions.argmax(axis=1)\n",
    "confidences = np.max(predictions, axis=-1)\n",
    "\n",
    "# Define the class names\n",
    "class_names = ['B', 'D', 'R', 'S']\n",
    "\n",
    "# Define the test data directory\n",
    "test_dir = 'Dataset/test/'\n",
    "\n",
    "test_images = []\n",
    "for class_folder in os.listdir(test_dir):\n",
    "    class_folder_path = os.path.join(test_dir, class_folder)\n",
    "    if os.path.isdir(class_folder_path):\n",
    "        for image_file in os.listdir(class_folder_path):\n",
    "            if image_file.endswith('.jpg'):\n",
    "                image_path = os.path.join(class_folder_path, image_file)\n",
    "                test_images.append(image_path)"
   ]
  },
  {
   "cell_type": "code",
   "execution_count": 13,
   "metadata": {},
   "outputs": [],
   "source": [
    "# Save the predictions to a file\n",
    "with open('result.txt', 'w') as f:\n",
    "    for i in range(len(test_images)):\n",
    "        image_name = os.path.basename(test_images[i])\n",
    "        class_name = class_names[class_preds[i]]\n",
    "        confidence = confidences[i]\n",
    "        f.write(\"{}: ,{}\\n\".format(\n",
    "            image_name, class_name))"
   ]
  },
  {
   "cell_type": "code",
   "execution_count": 14,
   "metadata": {},
   "outputs": [
    {
     "name": "stdout",
     "output_type": "stream",
     "text": [
      "7/7 [==============================] - 0s 6ms/step - loss: 0.8702 - accuracy: 0.6600\n",
      "Test accuracy: 0.6600000262260437\n"
     ]
    }
   ],
   "source": [
    "# evaluate the model on test data\n",
    "score = model.evaluate(x_test, y_test)\n",
    "\n",
    "# print the model's accuracy\n",
    "print('Test accuracy:', score[1])"
   ]
  }
 ],
 "metadata": {
  "kernelspec": {
   "display_name": "Python 3",
   "language": "python",
   "name": "python3"
  },
  "language_info": {
   "codemirror_mode": {
    "name": "ipython",
    "version": 3
   },
   "file_extension": ".py",
   "mimetype": "text/x-python",
   "name": "python",
   "nbconvert_exporter": "python",
   "pygments_lexer": "ipython3",
   "version": "3.11.1"
  },
  "orig_nbformat": 4
 },
 "nbformat": 4,
 "nbformat_minor": 2
}
