{
 "cells": [
  {
   "cell_type": "code",
   "execution_count": 118,
   "id": "a38892aa",
   "metadata": {},
   "outputs": [],
   "source": [
    "from keras.models import Model\n",
    "from keras.layers import Input, Dense, Conv2D, MaxPool2D, Flatten, Dropout, MaxPooling2D, LeakyReLU\n",
    "from keras.utils import to_categorical\n",
    "from sklearn.metrics import confusion_matrix\n",
    "from keras.optimizers import Adam\n",
    "from keras.utils.vis_utils import plot_model\n",
    "import matplotlib.pyplot as plt\n",
    "import numpy as np\n",
    "import cv2\n",
    "import os"
   ]
  },
  {
   "cell_type": "code",
   "execution_count": 119,
   "id": "ace777e4",
   "metadata": {},
   "outputs": [],
   "source": [
    "# Define the model architecture\n",
    "input = Input(shape=(112, 112, 3))\n",
    "conv1 = Conv2D(32, (3, 3))(input)\n",
    "act1 = LeakyReLU(alpha=0.1)(conv1)\n",
    "dropout1 = Dropout(0.2)(act1)\n",
    "pool1 = MaxPool2D(pool_size=(2, 2))(dropout1)\n",
    "conv2 = Conv2D(64, (3, 3))(pool1)\n",
    "act2 = LeakyReLU(alpha=0.1)(conv2)\n",
    "dropout2 = Dropout(0.2)(act2)\n",
    "pool2 = MaxPool2D(pool_size=(2, 2))(dropout2)\n",
    "conv3 = Conv2D(128, (3, 3))(pool2)\n",
    "act3 = LeakyReLU(alpha=0.1)(conv3)\n",
    "dropout3 = Dropout(0.2)(act3)\n",
    "pool3 = MaxPool2D(pool_size=(2, 2))(dropout3)\n",
    "conv4 = Conv2D(256, (3, 3))(pool3)\n",
    "act4 = LeakyReLU(alpha=0.1)(conv4)\n",
    "dropout4 = Dropout(0.2)(act4)\n",
    "pool4 = MaxPool2D(pool_size=(2, 2))(dropout4)\n",
    "flatten = Flatten()(pool4)\n",
    "dense1 = Dense(1024)(flatten)\n",
    "act5 = LeakyReLU(alpha=0.1)(dense1)\n",
    "dropout5 = Dropout(0.2)(act5)\n",
    "output = Dense(4, activation='softmax')(dropout5)\n",
    "\n",
    "# Create the model\n",
    "model = Model(inputs=input, outputs=output)"
   ]
  },
  {
   "cell_type": "code",
   "execution_count": 120,
   "id": "f8509cf2",
   "metadata": {},
   "outputs": [],
   "source": [
    "model.compile(optimizer=Adam(learning_rate=0.0001),\n",
    "              loss='categorical_crossentropy',\n",
    "              metrics=['accuracy'])"
   ]
  },
  {
   "cell_type": "code",
   "execution_count": 121,
   "id": "070f1556",
   "metadata": {},
   "outputs": [
    {
     "name": "stdout",
     "output_type": "stream",
     "text": [
      "Model: \"model_11\"\n",
      "_________________________________________________________________\n",
      " Layer (type)                Output Shape              Param #   \n",
      "=================================================================\n",
      " input_12 (InputLayer)       [(None, 112, 112, 3)]     0         \n",
      "                                                                 \n",
      " conv2d_59 (Conv2D)          (None, 110, 110, 32)      896       \n",
      "                                                                 \n",
      " leaky_re_lu_20 (LeakyReLU)  (None, 110, 110, 32)      0         \n",
      "                                                                 \n",
      " dropout_19 (Dropout)        (None, 110, 110, 32)      0         \n",
      "                                                                 \n",
      " max_pooling2d_43 (MaxPoolin  (None, 55, 55, 32)       0         \n",
      " g2D)                                                            \n",
      "                                                                 \n",
      " conv2d_60 (Conv2D)          (None, 53, 53, 64)        18496     \n",
      "                                                                 \n",
      " leaky_re_lu_21 (LeakyReLU)  (None, 53, 53, 64)        0         \n",
      "                                                                 \n",
      " dropout_20 (Dropout)        (None, 53, 53, 64)        0         \n",
      "                                                                 \n",
      " max_pooling2d_44 (MaxPoolin  (None, 26, 26, 64)       0         \n",
      " g2D)                                                            \n",
      "                                                                 \n",
      " conv2d_61 (Conv2D)          (None, 24, 24, 128)       73856     \n",
      "                                                                 \n",
      " leaky_re_lu_22 (LeakyReLU)  (None, 24, 24, 128)       0         \n",
      "                                                                 \n",
      " dropout_21 (Dropout)        (None, 24, 24, 128)       0         \n",
      "                                                                 \n",
      " max_pooling2d_45 (MaxPoolin  (None, 12, 12, 128)      0         \n",
      " g2D)                                                            \n",
      "                                                                 \n",
      " conv2d_62 (Conv2D)          (None, 10, 10, 256)       295168    \n",
      "                                                                 \n",
      " leaky_re_lu_23 (LeakyReLU)  (None, 10, 10, 256)       0         \n",
      "                                                                 \n",
      " dropout_22 (Dropout)        (None, 10, 10, 256)       0         \n",
      "                                                                 \n",
      " max_pooling2d_46 (MaxPoolin  (None, 5, 5, 256)        0         \n",
      " g2D)                                                            \n",
      "                                                                 \n",
      " flatten_11 (Flatten)        (None, 6400)              0         \n",
      "                                                                 \n",
      " dense_26 (Dense)            (None, 1024)              6554624   \n",
      "                                                                 \n",
      " leaky_re_lu_24 (LeakyReLU)  (None, 1024)              0         \n",
      "                                                                 \n",
      " dropout_23 (Dropout)        (None, 1024)              0         \n",
      "                                                                 \n",
      " dense_27 (Dense)            (None, 4)                 4100      \n",
      "                                                                 \n",
      "=================================================================\n",
      "Total params: 6,947,140\n",
      "Trainable params: 6,947,140\n",
      "Non-trainable params: 0\n",
      "_________________________________________________________________\n"
     ]
    }
   ],
   "source": [
    "model.summary()"
   ]
  },
  {
   "cell_type": "code",
   "execution_count": 122,
   "id": "ecac04f4",
   "metadata": {},
   "outputs": [
    {
     "name": "stdout",
     "output_type": "stream",
     "text": [
      "x_train (1600, 112, 112, 3)\n",
      "y_train (1600, 4)\n",
      "x_valid (200, 112, 112, 3)\n",
      "y_valid (200, 4)\n"
     ]
    }
   ],
   "source": [
    "N = 1600\n",
    "x_train = np.zeros((N, 112, 112, 3), 'float')\n",
    "y_train = np.zeros((N), 'float')\n",
    "\n",
    "count = 0\n",
    "class_labels = sorted(os.listdir(\"Dataset/train\"))\n",
    "for i, class_label in enumerate(class_labels):\n",
    "    image_files = sorted(os.listdir(os.path.join(\"Dataset/train\", class_label)))\n",
    "    for image_file in image_files:\n",
    "        im = cv2.imread(os.path.join(\"Dataset/train\", class_label, image_file))\n",
    "        im = cv2.resize(im, (112, 112))\n",
    "        x_train[count, :, :, :] = im / 255.\n",
    "        y_train[count] = i\n",
    "        count += 1\n",
    "\n",
    "y_train = to_categorical(y_train)\n",
    "print('x_train', x_train.shape)\n",
    "print('y_train', y_train.shape)\n",
    "\n",
    "N2 = 200\n",
    "x_valid = np.zeros((N2, 112, 112, 3), 'float')\n",
    "y_valid = np.zeros((N2), 'float')\n",
    "\n",
    "count2 = 0\n",
    "class_labels = sorted(os.listdir(\"Dataset/val\"))\n",
    "for j, class_label in enumerate(class_labels):\n",
    "    image_files = sorted(os.listdir(os.path.join(\"Dataset/val\", class_label)))\n",
    "    for image_file in image_files:\n",
    "        im = cv2.imread(os.path.join(\"Dataset/val\", class_label, image_file))\n",
    "        im = cv2.resize(im, (112, 112))\n",
    "        x_valid[count2, :, :, :] = im / 255.\n",
    "        y_valid[count2] = j\n",
    "        count2 += 1\n",
    "\n",
    "y_valid = to_categorical(y_valid)\n",
    "print('x_valid', x_valid.shape)\n",
    "print('y_valid', y_valid.shape)"
   ]
  },
  {
   "cell_type": "code",
   "execution_count": 123,
   "id": "2129fb43",
   "metadata": {},
   "outputs": [
    {
     "name": "stdout",
     "output_type": "stream",
     "text": [
      "Epoch 1/100\n",
      "25/25 [==============================] - 24s 930ms/step - loss: 1.3062 - accuracy: 0.3775 - val_loss: 1.2668 - val_accuracy: 0.4250\n",
      "Epoch 2/100\n",
      "25/25 [==============================] - 22s 859ms/step - loss: 1.1414 - accuracy: 0.5150 - val_loss: 1.1922 - val_accuracy: 0.5150\n",
      "Epoch 3/100\n",
      "25/25 [==============================] - 21s 841ms/step - loss: 1.0387 - accuracy: 0.5719 - val_loss: 1.1327 - val_accuracy: 0.5650\n",
      "Epoch 4/100\n",
      "25/25 [==============================] - 21s 832ms/step - loss: 0.9884 - accuracy: 0.5956 - val_loss: 1.1049 - val_accuracy: 0.6050\n",
      "Epoch 5/100\n",
      "25/25 [==============================] - 21s 838ms/step - loss: 0.8726 - accuracy: 0.6494 - val_loss: 0.9974 - val_accuracy: 0.6300\n",
      "Epoch 6/100\n",
      "25/25 [==============================] - 21s 834ms/step - loss: 0.7636 - accuracy: 0.6950 - val_loss: 0.9623 - val_accuracy: 0.6350\n",
      "Epoch 7/100\n",
      "25/25 [==============================] - 21s 838ms/step - loss: 0.7277 - accuracy: 0.7237 - val_loss: 0.9301 - val_accuracy: 0.6550\n",
      "Epoch 8/100\n",
      "25/25 [==============================] - 21s 838ms/step - loss: 0.6652 - accuracy: 0.7525 - val_loss: 0.8746 - val_accuracy: 0.6850\n",
      "Epoch 9/100\n",
      "25/25 [==============================] - 21s 833ms/step - loss: 0.5909 - accuracy: 0.7775 - val_loss: 0.8600 - val_accuracy: 0.6450\n",
      "Epoch 10/100\n",
      "25/25 [==============================] - 21s 831ms/step - loss: 0.6046 - accuracy: 0.7700 - val_loss: 0.9126 - val_accuracy: 0.6050\n",
      "Epoch 11/100\n",
      "25/25 [==============================] - 23s 922ms/step - loss: 0.5466 - accuracy: 0.7994 - val_loss: 0.7987 - val_accuracy: 0.7150\n",
      "Epoch 12/100\n",
      "25/25 [==============================] - 21s 859ms/step - loss: 0.5248 - accuracy: 0.8012 - val_loss: 0.8375 - val_accuracy: 0.6950\n",
      "Epoch 13/100\n",
      "25/25 [==============================] - 21s 833ms/step - loss: 0.4867 - accuracy: 0.8181 - val_loss: 0.7894 - val_accuracy: 0.7050\n",
      "Epoch 14/100\n",
      "25/25 [==============================] - 21s 832ms/step - loss: 0.4558 - accuracy: 0.8325 - val_loss: 0.7764 - val_accuracy: 0.6950\n",
      "Epoch 15/100\n",
      "25/25 [==============================] - 21s 835ms/step - loss: 0.3866 - accuracy: 0.8687 - val_loss: 0.7280 - val_accuracy: 0.7200\n",
      "Epoch 16/100\n",
      "25/25 [==============================] - 23s 930ms/step - loss: 0.3719 - accuracy: 0.8750 - val_loss: 0.7361 - val_accuracy: 0.7100\n",
      "Epoch 17/100\n",
      "25/25 [==============================] - 23s 930ms/step - loss: 0.3389 - accuracy: 0.8763 - val_loss: 0.7361 - val_accuracy: 0.6800\n",
      "Epoch 18/100\n",
      "25/25 [==============================] - 23s 928ms/step - loss: 0.3143 - accuracy: 0.8988 - val_loss: 0.6996 - val_accuracy: 0.7300\n",
      "Epoch 19/100\n",
      "25/25 [==============================] - 22s 876ms/step - loss: 0.2747 - accuracy: 0.9131 - val_loss: 0.6738 - val_accuracy: 0.7100\n",
      "Epoch 20/100\n",
      "25/25 [==============================] - 22s 899ms/step - loss: 0.2377 - accuracy: 0.9219 - val_loss: 0.6817 - val_accuracy: 0.7350\n",
      "Epoch 21/100\n",
      "25/25 [==============================] - 24s 953ms/step - loss: 0.2134 - accuracy: 0.9325 - val_loss: 0.6766 - val_accuracy: 0.7200\n",
      "Epoch 22/100\n",
      "25/25 [==============================] - 25s 1s/step - loss: 0.1742 - accuracy: 0.9550 - val_loss: 0.6550 - val_accuracy: 0.7300\n",
      "Epoch 23/100\n",
      "25/25 [==============================] - 25s 992ms/step - loss: 0.1629 - accuracy: 0.9513 - val_loss: 0.6557 - val_accuracy: 0.7250\n",
      "Epoch 24/100\n",
      "25/25 [==============================] - 23s 932ms/step - loss: 0.2363 - accuracy: 0.9137 - val_loss: 0.6668 - val_accuracy: 0.7150\n",
      "Epoch 25/100\n",
      "25/25 [==============================] - 25s 986ms/step - loss: 0.1592 - accuracy: 0.9600 - val_loss: 0.6548 - val_accuracy: 0.7350\n",
      "Epoch 26/100\n",
      "25/25 [==============================] - 23s 924ms/step - loss: 0.1164 - accuracy: 0.9787 - val_loss: 0.6104 - val_accuracy: 0.7300\n",
      "Epoch 27/100\n",
      "25/25 [==============================] - 24s 947ms/step - loss: 0.0975 - accuracy: 0.9831 - val_loss: 0.6164 - val_accuracy: 0.7550\n",
      "Epoch 28/100\n",
      "25/25 [==============================] - 22s 884ms/step - loss: 0.0782 - accuracy: 0.9900 - val_loss: 0.6231 - val_accuracy: 0.7200\n",
      "Epoch 29/100\n",
      "25/25 [==============================] - 23s 925ms/step - loss: 0.0649 - accuracy: 0.9912 - val_loss: 0.6236 - val_accuracy: 0.7300\n",
      "Epoch 30/100\n",
      "25/25 [==============================] - 22s 876ms/step - loss: 0.0672 - accuracy: 0.9900 - val_loss: 0.5823 - val_accuracy: 0.7400\n",
      "Epoch 31/100\n",
      "25/25 [==============================] - 23s 903ms/step - loss: 0.0697 - accuracy: 0.9875 - val_loss: 0.6317 - val_accuracy: 0.7250\n",
      "Epoch 32/100\n",
      "25/25 [==============================] - 24s 954ms/step - loss: 0.0586 - accuracy: 0.9912 - val_loss: 0.5880 - val_accuracy: 0.7500\n",
      "Epoch 33/100\n",
      "25/25 [==============================] - 23s 902ms/step - loss: 0.0369 - accuracy: 0.9975 - val_loss: 0.5983 - val_accuracy: 0.7400\n",
      "Epoch 34/100\n",
      "25/25 [==============================] - 23s 902ms/step - loss: 0.0371 - accuracy: 0.9975 - val_loss: 0.5801 - val_accuracy: 0.7450\n",
      "Epoch 35/100\n",
      "25/25 [==============================] - 23s 917ms/step - loss: 0.0355 - accuracy: 0.9956 - val_loss: 0.6209 - val_accuracy: 0.7400\n",
      "Epoch 36/100\n",
      "25/25 [==============================] - 24s 962ms/step - loss: 0.0312 - accuracy: 0.9981 - val_loss: 0.5833 - val_accuracy: 0.7650\n",
      "Epoch 37/100\n",
      "25/25 [==============================] - 23s 916ms/step - loss: 0.0275 - accuracy: 0.9969 - val_loss: 0.5828 - val_accuracy: 0.7600\n",
      "Epoch 38/100\n",
      "25/25 [==============================] - 23s 924ms/step - loss: 0.0226 - accuracy: 0.9987 - val_loss: 0.6388 - val_accuracy: 0.7450\n",
      "Epoch 39/100\n",
      "25/25 [==============================] - 23s 906ms/step - loss: 0.0213 - accuracy: 0.9994 - val_loss: 0.5792 - val_accuracy: 0.7750\n",
      "Epoch 40/100\n",
      "25/25 [==============================] - 22s 885ms/step - loss: 0.0237 - accuracy: 0.9975 - val_loss: 0.5818 - val_accuracy: 0.7750\n",
      "Epoch 41/100\n",
      "25/25 [==============================] - 22s 882ms/step - loss: 0.0178 - accuracy: 1.0000 - val_loss: 0.5806 - val_accuracy: 0.7750\n",
      "Epoch 42/100\n",
      "25/25 [==============================] - 23s 924ms/step - loss: 0.0120 - accuracy: 1.0000 - val_loss: 0.5950 - val_accuracy: 0.7650\n",
      "Epoch 43/100\n",
      "18/25 [====================>.........] - ETA: 6s - loss: 0.0116 - accuracy: 1.0000"
     ]
    }
   ],
   "source": [
    "# Train Model\n",
    "h = model.fit(x_train, y_train, validation_data=(\n",
    "    x_valid, y_valid), epochs=100, batch_size=64, verbose=1)\n"
   ]
  },
  {
   "cell_type": "code",
   "execution_count": null,
   "id": "0b9f21a7",
   "metadata": {},
   "outputs": [
    {
     "data": {
      "image/png": "[encoded data removed]",
      "text/plain": [
       "<Figure size 640x480 with 1 Axes>"
      ]
     },
     "metadata": {},
     "output_type": "display_data"
    }
   ],
   "source": [
    "plt.plot(h.history['accuracy'])\n",
    "plt.title('Model Accuracy')\n",
    "plt.ylabel('Accuracy')\n",
    "plt.xlabel('Epoch')\n",
    "plt.legend(['Train Accuracy'], loc='upper left')\n",
    "plt.show()"
   ]
  },
  {
   "cell_type": "code",
   "execution_count": null,
   "id": "7ebe12e8",
   "metadata": {},
   "outputs": [
    {
     "data": {
      "image/png": "[encoded data removed]",
      "text/plain": [
       "<Figure size 640x480 with 1 Axes>"
      ]
     },
     "metadata": {},
     "output_type": "display_data"
    }
   ],
   "source": [
    "plt.plot(h.history['loss'])\n",
    "plt.title('Model Loss')\n",
    "plt.ylabel('Loss')\n",
    "plt.xlabel('Epoch')\n",
    "plt.legend(['Train Loss'], loc='upper left')\n",
    "plt.show()\n",
    "\n",
    "# model.save('my_model.h5')"
   ]
  },
  {
   "cell_type": "code",
   "execution_count": null,
   "id": "d6d28c16",
   "metadata": {},
   "outputs": [
    {
     "name": "stdout",
     "output_type": "stream",
     "text": [
      "x_test (200, 112, 112, 3)\n",
      "y_test (200, 4)\n"
     ]
    }
   ],
   "source": [
    "N = 200\n",
    "x_test = np.zeros((N, 112, 112, 3), 'float')\n",
    "y_test = np.zeros((N), 'float')\n",
    "\n",
    "count = 0\n",
    "class_labels = sorted(os.listdir(\"Dataset/test\"))\n",
    "for i, class_label in enumerate(class_labels):\n",
    "    image_files = sorted(os.listdir(os.path.join(\"Dataset/test\", class_label)))\n",
    "    for image_file in image_files:\n",
    "        im = cv2.imread(os.path.join(\"Dataset/test\", class_label, image_file), cv2.IMREAD_COLOR)\n",
    "        im = cv2.resize(im, (112, 112))\n",
    "        x_test[count] = im / 255.\n",
    "        y_test[count] = i\n",
    "        count += 1\n",
    "\n",
    "y_test = to_categorical(y_test)\n",
    "print('x_test', x_test.shape)\n",
    "print('y_test', y_test.shape)"
   ]
  },
  {
   "cell_type": "code",
   "execution_count": null,
   "id": "d1e3f499",
   "metadata": {},
   "outputs": [
    {
     "name": "stdout",
     "output_type": "stream",
     "text": [
      "7/7 [==============================] - 1s 59ms/step\n"
     ]
    }
   ],
   "source": [
    "# Make predictions on the test data\n",
    "y_pred = model.predict(x_test)\n",
    "\n",
    "# Get the class predictions and confidence scores\n",
    "class_preds = y_pred.argmax(axis=1)\n",
    "confidences = np.max(y_pred, axis=-1)\n",
    "\n",
    "# Define the class names\n",
    "class_names = ['B', 'D', 'R', 'S']\n",
    "\n",
    "# Define the test data directory\n",
    "test_dir = 'Dataset/test/'\n",
    "\n",
    "test_images = []\n",
    "for class_folder in os.listdir(test_dir):\n",
    "    class_folder_path = os.path.join(test_dir, class_folder)\n",
    "    if os.path.isdir(class_folder_path):\n",
    "        for image_file in os.listdir(class_folder_path):\n",
    "            if image_file.endswith('.jpg'):\n",
    "                image_path = os.path.join(class_folder_path, image_file)\n",
    "                test_images.append(image_path)\n"
   ]
  },
  {
   "cell_type": "code",
   "execution_count": null,
   "id": "1b9af351",
   "metadata": {},
   "outputs": [],
   "source": [
    "# Save the predictions to a file\n",
    "with open('predictions.txt', 'w') as f:\n",
    "    for i in range(len(test_images)):\n",
    "        image_name = os.path.basename(test_images[i])\n",
    "        class_name = class_names[class_preds[i]]\n",
    "        confidence = confidences[i]\n",
    "        f.write(\"{}: ,{}\\n\".format(\n",
    "            image_name, class_name))"
   ]
  },
  {
   "cell_type": "code",
   "execution_count": null,
   "id": "1029b7d1",
   "metadata": {},
   "outputs": [
    {
     "name": "stdout",
     "output_type": "stream",
     "text": [
      "7/7 [==============================] - 0s 58ms/step - loss: 1.1211 - accuracy: 0.7650\n",
      "Test loss: 1.1210741996765137\n",
      "Test accuracy: 76.49999856948853\n"
     ]
    }
   ],
   "source": [
    "# Evaluate model on test dataset\n",
    "loss, accuracy = model.evaluate(x_test, y_test)\n",
    "print(\"Test loss:\", loss)\n",
    "print(\"Test accuracy:\", accuracy*100)"
   ]
  },
  {
   "cell_type": "code",
   "execution_count": null,
   "id": "6450b93e",
   "metadata": {},
   "outputs": [
    {
     "name": "stdout",
     "output_type": "stream",
     "text": [
      "Confusion Matrix:\n",
      " [[41  1  1  7]\n",
      " [ 4 36  4  6]\n",
      " [ 0  7 42  1]\n",
      " [ 6  8  2 34]]\n"
     ]
    }
   ],
   "source": [
    "# Compute the confusion matrix\n",
    "cm = confusion_matrix(np.argmax(y_test, axis=-1), class_preds)\n",
    "print(\"Confusion Matrix:\\n\", cm)\n"
   ]
  }
 ],
 "metadata": {
  "kernelspec": {
   "display_name": "Python 3 (ipykernel)",
   "language": "python",
   "name": "python3"
  },
  "language_info": {
   "codemirror_mode": {
    "name": "ipython",
    "version": 3
   },
   "file_extension": ".py",
   "mimetype": "text/x-python",
   "name": "python",
   "nbconvert_exporter": "python",
   "pygments_lexer": "ipython3",
   "version": "3.11.1"
  }
 },
 "nbformat": 4,
 "nbformat_minor": 5
}
