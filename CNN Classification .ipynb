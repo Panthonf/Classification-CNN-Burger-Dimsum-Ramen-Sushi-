{
 "cells": [
  {
   "cell_type": "code",
   "execution_count": 387,
   "id": "a38892aa",
   "metadata": {},
   "outputs": [],
   "source": [
    "from keras.models import Model\n",
    "from keras.layers import Input, Dense, Conv2D, MaxPool2D, Flatten, Dropout, MaxPooling2D\n",
    "from keras.utils import to_categorical\n",
    "from sklearn.metrics import confusion_matrix\n",
    "from keras.optimizers import Adam\n",
    "from keras.utils.vis_utils import plot_model\n",
    "import matplotlib.pyplot as plt\n",
    "import numpy as np\n",
    "import cv2\n",
    "import os"
   ]
  },
  {
   "cell_type": "code",
   "execution_count": 388,
   "id": "ace777e4",
   "metadata": {},
   "outputs": [],
   "source": [
    "input = Input(shape=(112, 112, 1))\n",
    "conv1 = Conv2D(32, (3, 3), activation='relu')(input)\n",
    "pool1 = MaxPool2D(pool_size=(2, 2))(conv1)\n",
    "\n",
    "conv2 = Conv2D(64, (3, 3), activation='relu')(pool1)\n",
    "pool2 = MaxPool2D(pool_size=(2, 2))(conv2)\n",
    "flatten = Flatten()(pool2)\n",
    "dense1 = Dense(128, activation='relu')(flatten)\n",
    "dropout2 = Dropout(0.2)(dense1)\n",
    "output = Dense(4, activation='softmax')(dropout2)\n",
    "model = Model(inputs=input, outputs=output)"
   ]
  },
  {
   "cell_type": "code",
   "execution_count": 389,
   "id": "f8509cf2",
   "metadata": {},
   "outputs": [],
   "source": [
    "model.compile(optimizer=Adam(learning_rate=0.0001),\n",
    "              loss='categorical_crossentropy',\n",
    "              metrics=['accuracy'])"
   ]
  },
  {
   "cell_type": "code",
   "execution_count": 390,
   "id": "070f1556",
   "metadata": {},
   "outputs": [
    {
     "name": "stdout",
     "output_type": "stream",
     "text": [
      "Model: \"model_37\"\n",
      "_________________________________________________________________\n",
      " Layer (type)                Output Shape              Param #   \n",
      "=================================================================\n",
      " input_39 (InputLayer)       [(None, 112, 112, 1)]     0         \n",
      "                                                                 \n",
      " conv2d_75 (Conv2D)          (None, 110, 110, 32)      320       \n",
      "                                                                 \n",
      " max_pooling2d_74 (MaxPoolin  (None, 55, 55, 32)       0         \n",
      " g2D)                                                            \n",
      "                                                                 \n",
      " conv2d_76 (Conv2D)          (None, 53, 53, 64)        18496     \n",
      "                                                                 \n",
      " max_pooling2d_75 (MaxPoolin  (None, 26, 26, 64)       0         \n",
      " g2D)                                                            \n",
      "                                                                 \n",
      " flatten_37 (Flatten)        (None, 43264)             0         \n",
      "                                                                 \n",
      " dense_99 (Dense)            (None, 128)               5537920   \n",
      "                                                                 \n",
      " dropout_70 (Dropout)        (None, 128)               0         \n",
      "                                                                 \n",
      " dense_100 (Dense)           (None, 4)                 516       \n",
      "                                                                 \n",
      "=================================================================\n",
      "Total params: 5,557,252\n",
      "Trainable params: 5,557,252\n",
      "Non-trainable params: 0\n",
      "_________________________________________________________________\n"
     ]
    }
   ],
   "source": [
    "model.summary()"
   ]
  },
  {
   "cell_type": "code",
   "execution_count": 391,
   "id": "ecac04f4",
   "metadata": {},
   "outputs": [
    {
     "name": "stdout",
     "output_type": "stream",
     "text": [
      "x_train (1600, 112, 112, 1)\n",
      "y_train (1600, 4)\n",
      "x_valid (200, 112, 112, 1)\n",
      "y_valid (200, 4)\n"
     ]
    }
   ],
   "source": [
    "N = 1600\n",
    "x_train = np.zeros((N, 112, 112, 1), 'float')\n",
    "y_train = np.zeros((N), 'float')\n",
    "\n",
    "count = 0\n",
    "class_labels = sorted(os.listdir(\"Dataset/train\"))\n",
    "for i, class_label in enumerate(class_labels):\n",
    "    image_files = sorted(os.listdir(os.path.join(\"Dataset/train\", class_label)))\n",
    "    for image_file in image_files:\n",
    "        im = cv2.imread(os.path.join(\"Dataset/train\", class_label, image_file), cv2.IMREAD_GRAYSCALE)\n",
    "        im = cv2.resize(im, (112, 112))\n",
    "        x_train[count, :, :, 0] = im / 255.\n",
    "        y_train[count] = i\n",
    "        count += 1\n",
    "\n",
    "y_train = to_categorical(y_train)\n",
    "print('x_train', x_train.shape)\n",
    "print('y_train', y_train.shape)\n",
    "\n",
    "N2 = 200\n",
    "x_valid = np.zeros((N2, 112, 112, 1), 'float')\n",
    "y_valid = np.zeros((N2), 'float')\n",
    "\n",
    "count2 = 0\n",
    "class_labels = sorted(os.listdir(\"Dataset/val\"))\n",
    "for j, class_label in enumerate(class_labels):\n",
    "    image_files = sorted(os.listdir(os.path.join(\"Dataset/val\", class_label)))\n",
    "    for image_file in image_files:\n",
    "        im = cv2.imread(os.path.join(\"Dataset/val\", class_label, image_file), cv2.IMREAD_GRAYSCALE)\n",
    "        im = cv2.resize(im, (112, 112))\n",
    "        x_valid[count2, :, :, 0] = im / 255.\n",
    "        y_valid[count2] = j\n",
    "        count2 += 1\n",
    "\n",
    "y_valid = to_categorical(y_valid)\n",
    "print('x_valid', x_valid.shape)\n",
    "print('y_valid', y_valid.shape)"
   ]
  },
  {
   "cell_type": "code",
   "execution_count": 392,
   "id": "2129fb43",
   "metadata": {},
   "outputs": [
    {
     "name": "stdout",
     "output_type": "stream",
     "text": [
      "Epoch 1/40\n",
      "25/25 [==============================] - 11s 409ms/step - loss: 1.3968 - accuracy: 0.2738 - val_loss: 1.3490 - val_accuracy: 0.3900\n",
      "Epoch 2/40\n",
      "25/25 [==============================] - 10s 396ms/step - loss: 1.3195 - accuracy: 0.4175 - val_loss: 1.3215 - val_accuracy: 0.3600\n",
      "Epoch 3/40\n",
      "25/25 [==============================] - 9s 378ms/step - loss: 1.2642 - accuracy: 0.4644 - val_loss: 1.2415 - val_accuracy: 0.4850\n",
      "Epoch 4/40\n",
      "25/25 [==============================] - 9s 373ms/step - loss: 1.1736 - accuracy: 0.5369 - val_loss: 1.1803 - val_accuracy: 0.5300\n",
      "Epoch 5/40\n",
      "25/25 [==============================] - 9s 379ms/step - loss: 1.1164 - accuracy: 0.5375 - val_loss: 1.1565 - val_accuracy: 0.4950\n",
      "Epoch 6/40\n",
      "25/25 [==============================] - 10s 390ms/step - loss: 1.0670 - accuracy: 0.5587 - val_loss: 1.1749 - val_accuracy: 0.4800\n",
      "Epoch 7/40\n",
      "25/25 [==============================] - 10s 396ms/step - loss: 1.0380 - accuracy: 0.5756 - val_loss: 1.1205 - val_accuracy: 0.5100\n",
      "Epoch 8/40\n",
      "25/25 [==============================] - 10s 418ms/step - loss: 0.9787 - accuracy: 0.6100 - val_loss: 1.0951 - val_accuracy: 0.5400\n",
      "Epoch 9/40\n",
      "25/25 [==============================] - 11s 421ms/step - loss: 0.9466 - accuracy: 0.6369 - val_loss: 1.0879 - val_accuracy: 0.5650\n",
      "Epoch 10/40\n",
      "25/25 [==============================] - 11s 427ms/step - loss: 0.8997 - accuracy: 0.6569 - val_loss: 1.1093 - val_accuracy: 0.5100\n",
      "Epoch 11/40\n",
      "25/25 [==============================] - 11s 431ms/step - loss: 0.8804 - accuracy: 0.6694 - val_loss: 1.0790 - val_accuracy: 0.5500\n",
      "Epoch 12/40\n",
      "25/25 [==============================] - 10s 416ms/step - loss: 0.8332 - accuracy: 0.6825 - val_loss: 1.0546 - val_accuracy: 0.5950\n",
      "Epoch 13/40\n",
      "25/25 [==============================] - 10s 390ms/step - loss: 0.8163 - accuracy: 0.7025 - val_loss: 1.0725 - val_accuracy: 0.5550\n",
      "Epoch 14/40\n",
      "25/25 [==============================] - 10s 408ms/step - loss: 0.7677 - accuracy: 0.7269 - val_loss: 1.0467 - val_accuracy: 0.5750\n",
      "Epoch 15/40\n",
      "25/25 [==============================] - 10s 410ms/step - loss: 0.7334 - accuracy: 0.7437 - val_loss: 1.0390 - val_accuracy: 0.5900\n",
      "Epoch 16/40\n",
      "25/25 [==============================] - 10s 394ms/step - loss: 0.7060 - accuracy: 0.7656 - val_loss: 1.0311 - val_accuracy: 0.5750\n",
      "Epoch 17/40\n",
      "25/25 [==============================] - 10s 403ms/step - loss: 0.6888 - accuracy: 0.7738 - val_loss: 1.0432 - val_accuracy: 0.5500\n",
      "Epoch 18/40\n",
      "25/25 [==============================] - 10s 416ms/step - loss: 0.6543 - accuracy: 0.7875 - val_loss: 1.1002 - val_accuracy: 0.5350\n",
      "Epoch 19/40\n",
      "25/25 [==============================] - 10s 414ms/step - loss: 0.6281 - accuracy: 0.8062 - val_loss: 1.0279 - val_accuracy: 0.5500\n",
      "Epoch 20/40\n",
      "25/25 [==============================] - 10s 397ms/step - loss: 0.6009 - accuracy: 0.7987 - val_loss: 1.0363 - val_accuracy: 0.5650\n",
      "Epoch 21/40\n",
      "25/25 [==============================] - 10s 399ms/step - loss: 0.5726 - accuracy: 0.8106 - val_loss: 1.0247 - val_accuracy: 0.5650\n",
      "Epoch 22/40\n",
      "25/25 [==============================] - 10s 382ms/step - loss: 0.5492 - accuracy: 0.8300 - val_loss: 1.0209 - val_accuracy: 0.5950\n",
      "Epoch 23/40\n",
      "25/25 [==============================] - 10s 384ms/step - loss: 0.5290 - accuracy: 0.8419 - val_loss: 1.0892 - val_accuracy: 0.5400\n",
      "Epoch 24/40\n",
      "25/25 [==============================] - 10s 384ms/step - loss: 0.5107 - accuracy: 0.8500 - val_loss: 1.0435 - val_accuracy: 0.5500\n",
      "Epoch 25/40\n",
      "25/25 [==============================] - 10s 382ms/step - loss: 0.4913 - accuracy: 0.8431 - val_loss: 1.0148 - val_accuracy: 0.5800\n",
      "Epoch 26/40\n",
      "25/25 [==============================] - 10s 382ms/step - loss: 0.4786 - accuracy: 0.8537 - val_loss: 1.0252 - val_accuracy: 0.5650\n",
      "Epoch 27/40\n",
      "25/25 [==============================] - 10s 384ms/step - loss: 0.4390 - accuracy: 0.8731 - val_loss: 1.0328 - val_accuracy: 0.5850\n",
      "Epoch 28/40\n",
      "25/25 [==============================] - 10s 387ms/step - loss: 0.4164 - accuracy: 0.8950 - val_loss: 1.0534 - val_accuracy: 0.5500\n",
      "Epoch 29/40\n",
      "25/25 [==============================] - 10s 390ms/step - loss: 0.3987 - accuracy: 0.9019 - val_loss: 1.0262 - val_accuracy: 0.6000\n",
      "Epoch 30/40\n",
      "25/25 [==============================] - 10s 394ms/step - loss: 0.3869 - accuracy: 0.9019 - val_loss: 1.0345 - val_accuracy: 0.6000\n",
      "Epoch 31/40\n",
      "25/25 [==============================] - 10s 388ms/step - loss: 0.3603 - accuracy: 0.9150 - val_loss: 1.0396 - val_accuracy: 0.5900\n",
      "Epoch 32/40\n",
      "25/25 [==============================] - 10s 395ms/step - loss: 0.3671 - accuracy: 0.9019 - val_loss: 1.0714 - val_accuracy: 0.5350\n",
      "Epoch 33/40\n",
      "25/25 [==============================] - 10s 387ms/step - loss: 0.3661 - accuracy: 0.8988 - val_loss: 1.0843 - val_accuracy: 0.6000\n",
      "Epoch 34/40\n",
      "25/25 [==============================] - 10s 392ms/step - loss: 0.3337 - accuracy: 0.9175 - val_loss: 1.0604 - val_accuracy: 0.6050\n",
      "Epoch 35/40\n",
      "25/25 [==============================] - 10s 386ms/step - loss: 0.3022 - accuracy: 0.9337 - val_loss: 1.1125 - val_accuracy: 0.5700\n",
      "Epoch 36/40\n",
      "25/25 [==============================] - 10s 408ms/step - loss: 0.3140 - accuracy: 0.9325 - val_loss: 1.0929 - val_accuracy: 0.5800\n",
      "Epoch 37/40\n",
      "25/25 [==============================] - 10s 398ms/step - loss: 0.2891 - accuracy: 0.9306 - val_loss: 1.0680 - val_accuracy: 0.6000\n",
      "Epoch 38/40\n",
      "25/25 [==============================] - 10s 397ms/step - loss: 0.2761 - accuracy: 0.9331 - val_loss: 1.1094 - val_accuracy: 0.6150\n",
      "Epoch 39/40\n",
      "25/25 [==============================] - 10s 398ms/step - loss: 0.2660 - accuracy: 0.9394 - val_loss: 1.0795 - val_accuracy: 0.6200\n",
      "Epoch 40/40\n",
      "25/25 [==============================] - 10s 391ms/step - loss: 0.2462 - accuracy: 0.9525 - val_loss: 1.1032 - val_accuracy: 0.5700\n"
     ]
    }
   ],
   "source": [
    "# Train Model\n",
    "h = model.fit(x_train, y_train, validation_data=(\n",
    "    x_valid, y_valid), epochs=40, batch_size=64, verbose=1)\n"
   ]
  },
  {
   "cell_type": "code",
   "execution_count": 393,
   "id": "0b9f21a7",
   "metadata": {},
   "outputs": [
    {
     "data": {
      "image/png": "[encoded data removed]",
      "text/plain": [
       "<Figure size 640x480 with 1 Axes>"
      ]
     },
     "metadata": {},
     "output_type": "display_data"
    }
   ],
   "source": [
    "plt.plot(h.history['accuracy'])\n",
    "plt.title('Model Accuracy')\n",
    "plt.ylabel('Accuracy')\n",
    "plt.xlabel('Epoch')\n",
    "plt.legend(['Train Accuracy'], loc='upper left')\n",
    "plt.show()"
   ]
  },
  {
   "cell_type": "code",
   "execution_count": 394,
   "id": "7ebe12e8",
   "metadata": {},
   "outputs": [
    {
     "data": {
      "image/png": "[encoded data removed]",
      "text/plain": [
       "<Figure size 640x480 with 1 Axes>"
      ]
     },
     "metadata": {},
     "output_type": "display_data"
    }
   ],
   "source": [
    "plt.plot(h.history['loss'])\n",
    "plt.title('Model Loss')\n",
    "plt.ylabel('Loss')\n",
    "plt.xlabel('Epoch')\n",
    "plt.legend(['Train Loss'], loc='upper left')\n",
    "plt.show()\n",
    "\n",
    "model.save('my_model2.h5')"
   ]
  },
  {
   "cell_type": "code",
   "execution_count": 395,
   "id": "d6d28c16",
   "metadata": {},
   "outputs": [
    {
     "name": "stdout",
     "output_type": "stream",
     "text": [
      "x_test (200, 112, 112, 1)\n",
      "y_test (200, 4)\n"
     ]
    }
   ],
   "source": [
    "N = 200\n",
    "x_test = np.zeros((N, 112, 112, 1), 'float')\n",
    "y_test = np.zeros((N), 'float')\n",
    "\n",
    "count = 0\n",
    "class_labels = sorted(os.listdir(\"Dataset/test\"))\n",
    "for i, class_label in enumerate(class_labels):\n",
    "    image_files = sorted(os.listdir(os.path.join(\"Dataset/test\", class_label)))\n",
    "    for image_file in image_files:\n",
    "        im = cv2.imread(os.path.join(\"Dataset/test\", class_label, image_file), cv2.IMREAD_GRAYSCALE)\n",
    "        im = cv2.resize(im, (112, 112))\n",
    "        x_test[count, :, :, 0] = im / 255.\n",
    "        y_test[count] = i\n",
    "        count += 1\n",
    "\n",
    "y_test = to_categorical(y_test)\n",
    "print('x_test', x_test.shape)\n",
    "print('y_test', y_test.shape)"
   ]
  },
  {
   "cell_type": "code",
   "execution_count": 396,
   "id": "d1e3f499",
   "metadata": {},
   "outputs": [
    {
     "name": "stdout",
     "output_type": "stream",
     "text": [
      "7/7 [==============================] - 1s 41ms/step\n"
     ]
    }
   ],
   "source": [
    "# Make predictions on the test data\n",
    "y_pred = model.predict(x_test)\n",
    "\n",
    "# Get the class predictions and confidence scores\n",
    "class_preds = y_pred.argmax(axis=1)\n",
    "confidences = np.max(y_pred, axis=-1)\n",
    "\n",
    "# Define the class names\n",
    "class_names = ['B', 'D', 'R', 'S']\n",
    "\n",
    "# Define the test data directory\n",
    "test_dir = 'Dataset/test/'\n",
    "\n",
    "test_images = []\n",
    "for class_folder in os.listdir(test_dir):\n",
    "    class_folder_path = os.path.join(test_dir, class_folder)\n",
    "    if os.path.isdir(class_folder_path):\n",
    "        for image_file in os.listdir(class_folder_path):\n",
    "            if image_file.endswith('.jpg'):\n",
    "                image_path = os.path.join(class_folder_path, image_file)\n",
    "                test_images.append(image_path)\n"
   ]
  },
  {
   "cell_type": "code",
   "execution_count": 397,
   "id": "1b9af351",
   "metadata": {},
   "outputs": [],
   "source": [
    "# Save the predictions to a file\n",
    "with open('predictions.txt', 'w') as f:\n",
    "    for i in range(len(test_images)):\n",
    "        image_name = os.path.basename(test_images[i])\n",
    "        class_name = class_names[class_preds[i]]\n",
    "        confidence = confidences[i]\n",
    "        f.write(\"{}: ,{}\\n\".format(\n",
    "            image_name, class_name))"
   ]
  },
  {
   "cell_type": "code",
   "execution_count": 398,
   "id": "1029b7d1",
   "metadata": {},
   "outputs": [
    {
     "name": "stdout",
     "output_type": "stream",
     "text": [
      "7/7 [==============================] - 0s 41ms/step - loss: 1.0267 - accuracy: 0.6350\n",
      "Test loss: 1.0267280340194702\n",
      "Test accuracy: 63.499999046325684\n"
     ]
    }
   ],
   "source": [
    "# Evaluate model on test dataset\n",
    "loss, accuracy = model.evaluate(x_test, y_test)\n",
    "print(\"Test loss:\", loss)\n",
    "print(\"Test accuracy:\", accuracy*100)"
   ]
  },
  {
   "cell_type": "code",
   "execution_count": 399,
   "id": "6450b93e",
   "metadata": {},
   "outputs": [
    {
     "name": "stdout",
     "output_type": "stream",
     "text": [
      "Confusion Matrix:\n",
      " [[40  2  2  6]\n",
      " [ 7 28  6  9]\n",
      " [ 4  5 35  6]\n",
      " [ 9 14  3 24]]\n"
     ]
    }
   ],
   "source": [
    "# Compute the confusion matrix\n",
    "cm = confusion_matrix(np.argmax(y_test, axis=-1), class_preds)\n",
    "print(\"Confusion Matrix:\\n\", cm)\n"
   ]
  }
 ],
 "metadata": {
  "kernelspec": {
   "display_name": "Python 3 (ipykernel)",
   "language": "python",
   "name": "python3"
  },
  "language_info": {
   "codemirror_mode": {
    "name": "ipython",
    "version": 3
   },
   "file_extension": ".py",
   "mimetype": "text/x-python",
   "name": "python",
   "nbconvert_exporter": "python",
   "pygments_lexer": "ipython3",
   "version": "3.11.1"
  }
 },
 "nbformat": 4,
 "nbformat_minor": 5
}
