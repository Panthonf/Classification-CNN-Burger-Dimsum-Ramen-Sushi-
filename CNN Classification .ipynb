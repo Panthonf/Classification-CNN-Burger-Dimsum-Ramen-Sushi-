{
 "cells": [
  {
   "cell_type": "code",
   "execution_count": 1,
   "id": "a38892aa",
   "metadata": {},
   "outputs": [],
   "source": [
    "from keras.models import Model\n",
    "from keras.layers import Input, Dense, Conv2D, MaxPool2D, Flatten, Dropout\n",
    "from keras.utils import to_categorical\n",
    "from sklearn.metrics import confusion_matrix\n",
    "from keras.optimizers import Adam\n",
    "from keras.utils.vis_utils import plot_model\n",
    "from tensorflow.keras.utils import to_categorical\n",
    "import matplotlib.pyplot as plt\n",
    "import numpy as np\n",
    "import cv2"
   ]
  },
  {
   "cell_type": "code",
   "execution_count": 2,
   "id": "ace777e4",
   "metadata": {},
   "outputs": [],
   "source": [
    "#Create model\n",
    "input = Input(shape = (50,50,1))\n",
    "conv1 = Conv2D(10,4,activation='relu')(input) #10 = features map\n",
    "dropout1 = Dropout(0.2)(conv1)\n",
    "pool1 = MaxPool2D(pool_size=(2, 2))(dropout1)\n",
    "conv2 = Conv2D(20,4,activation='relu')(pool1)\n",
    "dropout2 = Dropout(0.2)(conv2)\n",
    "pool2 = MaxPool2D(pool_size=(2, 2))(dropout2)\n",
    "flat = Flatten()(pool2)\n",
    "hidden = Dense(64, activation='relu')(flat)\n",
    "output = Dense(4, activation='softmax')(hidden)\n",
    "model = Model(inputs=input, outputs=output) #Create model"
   ]
  },
  {
   "cell_type": "code",
   "execution_count": 3,
   "id": "f8509cf2",
   "metadata": {},
   "outputs": [],
   "source": [
    "model.compile(optimizer=Adam(learning_rate=0.001),\n",
    "              loss='categorical_crossentropy',\n",
    "              metrics=['accuracy'])"
   ]
  },
  {
   "cell_type": "code",
   "execution_count": 4,
   "id": "070f1556",
   "metadata": {},
   "outputs": [
    {
     "name": "stdout",
     "output_type": "stream",
     "text": [
      "Model: \"model\"\n",
      "_________________________________________________________________\n",
      " Layer (type)                Output Shape              Param #   \n",
      "=================================================================\n",
      " input_1 (InputLayer)        [(None, 50, 50, 1)]       0         \n",
      "                                                                 \n",
      " conv2d (Conv2D)             (None, 47, 47, 10)        170       \n",
      "                                                                 \n",
      " dropout (Dropout)           (None, 47, 47, 10)        0         \n",
      "                                                                 \n",
      " max_pooling2d (MaxPooling2D  (None, 23, 23, 10)       0         \n",
      " )                                                               \n",
      "                                                                 \n",
      " conv2d_1 (Conv2D)           (None, 20, 20, 20)        3220      \n",
      "                                                                 \n",
      " dropout_1 (Dropout)         (None, 20, 20, 20)        0         \n",
      "                                                                 \n",
      " max_pooling2d_1 (MaxPooling  (None, 10, 10, 20)       0         \n",
      " 2D)                                                             \n",
      "                                                                 \n",
      " flatten (Flatten)           (None, 2000)              0         \n",
      "                                                                 \n",
      " dense (Dense)               (None, 64)                128064    \n",
      "                                                                 \n",
      " dense_1 (Dense)             (None, 4)                 260       \n",
      "                                                                 \n",
      "=================================================================\n",
      "Total params: 131,714\n",
      "Trainable params: 131,714\n",
      "Non-trainable params: 0\n",
      "_________________________________________________________________\n"
     ]
    }
   ],
   "source": [
    "model.summary()"
   ]
  },
  {
   "cell_type": "code",
   "execution_count": 5,
   "id": "ecac04f4",
   "metadata": {},
   "outputs": [
    {
     "name": "stdout",
     "output_type": "stream",
     "text": [
      "x_train (1600, 50, 50, 1)\n",
      "y_train (1600, 4)\n"
     ]
    }
   ],
   "source": [
    "# Read data from file (download form https://drive.google.com/file/d/1UACFvQ8QCFUQaBWz9umQxbUWLSQlh1co/view?usp=sharing)\n",
    "import os\n",
    "\n",
    "N = 1600\n",
    "x_train = np.zeros((N, 50, 50, 1), 'float')\n",
    "y_train = np.zeros((N), 'float')\n",
    "\n",
    "count = 0\n",
    "class_labels = sorted(os.listdir(\"Dataset/train\"))\n",
    "for i, class_label in enumerate(class_labels):\n",
    "    image_files = sorted(os.listdir(os.path.join(\"Dataset/train\", class_label)))\n",
    "    for image_file in image_files:\n",
    "        im = cv2.imread(os.path.join(\"Dataset/train\", class_label, image_file), cv2.IMREAD_GRAYSCALE)\n",
    "        im = cv2.resize(im, (50, 50))\n",
    "        x_train[count, :, :, 0] = im / 255.\n",
    "        y_train[count] = i\n",
    "        count += 1\n",
    "\n",
    "y_train = to_categorical(y_train)\n",
    "print('x_train', x_train.shape)\n",
    "print('y_train', y_train.shape)\n",
    "\n"
   ]
  },
  {
   "cell_type": "code",
   "execution_count": 6,
   "id": "2129fb43",
   "metadata": {},
   "outputs": [
    {
     "name": "stdout",
     "output_type": "stream",
     "text": [
      "Epoch 1/20\n",
      "25/25 [==============================] - 2s 46ms/step - loss: 1.3734 - accuracy: 0.2956\n",
      "Epoch 2/20\n",
      "25/25 [==============================] - 1s 45ms/step - loss: 1.2321 - accuracy: 0.4656\n",
      "Epoch 3/20\n",
      "25/25 [==============================] - 1s 44ms/step - loss: 1.1390 - accuracy: 0.4938\n",
      "Epoch 4/20\n",
      "25/25 [==============================] - 1s 45ms/step - loss: 1.0472 - accuracy: 0.5575\n",
      "Epoch 5/20\n",
      "25/25 [==============================] - 1s 45ms/step - loss: 0.9834 - accuracy: 0.5750\n",
      "Epoch 6/20\n",
      "25/25 [==============================] - 1s 45ms/step - loss: 0.9450 - accuracy: 0.6144\n",
      "Epoch 7/20\n",
      "25/25 [==============================] - 1s 45ms/step - loss: 0.9078 - accuracy: 0.6413\n",
      "Epoch 8/20\n",
      "25/25 [==============================] - 1s 46ms/step - loss: 0.8253 - accuracy: 0.6662\n",
      "Epoch 9/20\n",
      "25/25 [==============================] - 1s 46ms/step - loss: 0.8031 - accuracy: 0.6862\n",
      "Epoch 10/20\n",
      "25/25 [==============================] - 1s 47ms/step - loss: 0.8104 - accuracy: 0.6787\n",
      "Epoch 11/20\n",
      "25/25 [==============================] - 1s 45ms/step - loss: 0.7227 - accuracy: 0.7281\n",
      "Epoch 12/20\n",
      "25/25 [==============================] - 1s 46ms/step - loss: 0.7064 - accuracy: 0.7375\n",
      "Epoch 13/20\n",
      "25/25 [==============================] - 1s 47ms/step - loss: 0.6800 - accuracy: 0.7362\n",
      "Epoch 14/20\n",
      "25/25 [==============================] - 1s 46ms/step - loss: 0.6503 - accuracy: 0.7437\n",
      "Epoch 15/20\n",
      "25/25 [==============================] - 1s 43ms/step - loss: 0.6169 - accuracy: 0.7706\n",
      "Epoch 16/20\n",
      "25/25 [==============================] - 1s 44ms/step - loss: 0.5840 - accuracy: 0.7719\n",
      "Epoch 17/20\n",
      "25/25 [==============================] - 1s 43ms/step - loss: 0.5771 - accuracy: 0.7856\n",
      "Epoch 18/20\n",
      "25/25 [==============================] - 1s 44ms/step - loss: 0.5596 - accuracy: 0.7906\n",
      "Epoch 19/20\n",
      "25/25 [==============================] - 1s 43ms/step - loss: 0.5046 - accuracy: 0.8206\n",
      "Epoch 20/20\n",
      "25/25 [==============================] - 1s 44ms/step - loss: 0.4689 - accuracy: 0.8369\n"
     ]
    }
   ],
   "source": [
    "#Train Model\n",
    "h = model.fit(x_train, y_train, epochs=20, batch_size=64, verbose=1)"
   ]
  },
  {
   "cell_type": "code",
   "execution_count": 7,
   "id": "0b9f21a7",
   "metadata": {},
   "outputs": [
    {
     "data": {
      "text/plain": [
       "[<matplotlib.lines.Line2D at 0x1fd25dff390>]"
      ]
     },
     "execution_count": 7,
     "metadata": {},
     "output_type": "execute_result"
    },
    {
     "data": {
      "image/png": "[encoded data removed]",
      "text/plain": [
       "<Figure size 640x480 with 1 Axes>"
      ]
     },
     "metadata": {},
     "output_type": "display_data"
    }
   ],
   "source": [
    "plt.plot(h.history['accuracy'])"
   ]
  },
  {
   "cell_type": "code",
   "execution_count": 8,
   "id": "d6d28c16",
   "metadata": {},
   "outputs": [
    {
     "name": "stdout",
     "output_type": "stream",
     "text": [
      "x_test (200, 50, 50, 1)\n",
      "y_test (200, 4)\n"
     ]
    }
   ],
   "source": [
    "import os\n",
    "\n",
    "N = 200\n",
    "x_test = np.zeros((N, 50, 50, 1), 'float')\n",
    "y_test = np.zeros((N), 'float')\n",
    "\n",
    "count = 0\n",
    "class_labels = sorted(os.listdir(\"Dataset/test\"))\n",
    "for i, class_label in enumerate(class_labels):\n",
    "    image_files = sorted(os.listdir(os.path.join(\"Dataset/test\", class_label)))\n",
    "    for image_file in image_files:\n",
    "        im = cv2.imread(os.path.join(\"Dataset/test\", class_label, image_file), cv2.IMREAD_GRAYSCALE)\n",
    "        im = cv2.resize(im, (50, 50))\n",
    "        x_test[count, :, :, 0] = im / 255.\n",
    "        y_test[count] = i\n",
    "        count += 1\n",
    "\n",
    "y_test = to_categorical(y_test)\n",
    "print('x_test', x_test.shape)\n",
    "print('y_test', y_test.shape)\n"
   ]
  },
  {
   "cell_type": "code",
   "execution_count": null,
   "id": "bee65772",
   "metadata": {},
   "outputs": [],
   "source": []
  },
  {
   "cell_type": "code",
   "execution_count": 9,
   "id": "d1e3f499",
   "metadata": {},
   "outputs": [
    {
     "name": "stdout",
     "output_type": "stream",
     "text": [
      "7/7 [==============================] - 0s 7ms/step\n"
     ]
    },
    {
     "ename": "NameError",
     "evalue": "name 'test_images' is not defined",
     "output_type": "error",
     "traceback": [
      "\u001b[1;31m---------------------------------------------------------------------------\u001b[0m",
      "\u001b[1;31mNameError\u001b[0m                                 Traceback (most recent call last)",
      "Cell \u001b[1;32mIn[9], line 13\u001b[0m\n\u001b[0;32m     11\u001b[0m \u001b[39m# Save the predictions to a file\u001b[39;00m\n\u001b[0;32m     12\u001b[0m \u001b[39mwith\u001b[39;00m \u001b[39mopen\u001b[39m(\u001b[39m'\u001b[39m\u001b[39mpredictions.txt\u001b[39m\u001b[39m'\u001b[39m, \u001b[39m'\u001b[39m\u001b[39mw\u001b[39m\u001b[39m'\u001b[39m) \u001b[39mas\u001b[39;00m f:\n\u001b[1;32m---> 13\u001b[0m     \u001b[39mfor\u001b[39;00m i \u001b[39min\u001b[39;00m \u001b[39mrange\u001b[39m(\u001b[39mlen\u001b[39m(test_images)):\n\u001b[0;32m     14\u001b[0m         image_name \u001b[39m=\u001b[39m os\u001b[39m.\u001b[39mpath\u001b[39m.\u001b[39mbasename(test_images[i])\n\u001b[0;32m     15\u001b[0m         class_name \u001b[39m=\u001b[39m class_names[class_preds[i]]\n",
      "\u001b[1;31mNameError\u001b[0m: name 'test_images' is not defined"
     ]
    }
   ],
   "source": [
    "# Make predictions on the test data\n",
    "y_pred = model.predict(x_test)\n",
    "\n",
    "# Get the class predictions and confidence scores\n",
    "class_preds = y_pred.argmax(axis=1)\n",
    "confidences = np.max(y_pred, axis=-1)\n",
    "\n",
    "# Define the class names\n",
    "class_names = ['Burger', 'Dimsum', 'Ramen', 'Sushi']\n",
    "\n",
    "# Save the predictions to a file\n",
    "with open('predictions.txt', 'w') as f:\n",
    "    for i in range(len(class_labels)):\n",
    "        image_name = os.path.basename(class_labels[i])\n",
    "        class_name = class_names[class_preds[i]]\n",
    "        confidence = confidences[i]\n",
    "        f.write(\"{}: Predicted class {}, Confidence {}\\n\".format(\n",
    "            image_name, class_name, confidence))\n",
    "\n",
    "\n"
   ]
  },
  {
   "cell_type": "code",
   "execution_count": null,
   "id": "6450b93e",
   "metadata": {},
   "outputs": [
    {
     "name": "stdout",
     "output_type": "stream",
     "text": [
      "Confusion Matrix:\n",
      " [[24  5  5 16]\n",
      " [ 0 16 13 21]\n",
      " [ 1  3 40  6]\n",
      " [ 6  5  2 37]]\n"
     ]
    }
   ],
   "source": [
    "# Compute the confusion matrix\n",
    "cm = confusion_matrix(np.argmax(y_test,axis = -1), class_preds)\n",
    "\n",
    "print(\"Confusion Matrix:\\n\", cm)"
   ]
  },
  {
   "cell_type": "code",
   "execution_count": null,
   "id": "d3fba0f7",
   "metadata": {},
   "outputs": [
    {
     "name": "stdout",
     "output_type": "stream",
     "text": [
      "accuracy : 67.00000166893005 %\n",
      "loss : 87.47774362564087 %\n"
     ]
    },
    {
     "data": {
      "image/png": "[encoded data removed]",
      "text/plain": [
       "<Figure size 640x480 with 1 Axes>"
      ]
     },
     "metadata": {},
     "output_type": "display_data"
    }
   ],
   "source": [
    "print(\"accuracy :\",accuracy*100,\"%\")\n",
    "print(\"loss :\",loss*100,\"%\")\n",
    "# list all data in history\n",
    "# print(h.history.keys())\n",
    "plt.plot(h.history['accuracy'])\n",
    "plt.plot(h.history['loss'])\n",
    "plt.title('Model accuracy and loss')\n",
    "plt.ylabel('Accuracy')\n",
    "plt.xlabel('Epoch')\n",
    "plt.legend(['Train Accuracy', 'Train Loss'], loc='upper left')\n",
    "plt.show()"
   ]
  }
 ],
 "metadata": {
  "kernelspec": {
   "display_name": "Python 3 (ipykernel)",
   "language": "python",
   "name": "python3"
  },
  "language_info": {
   "codemirror_mode": {
    "name": "ipython",
    "version": 3
   },
   "file_extension": ".py",
   "mimetype": "text/x-python",
   "name": "python",
   "nbconvert_exporter": "python",
   "pygments_lexer": "ipython3",
   "version": "3.11.1"
  }
 },
 "nbformat": 4,
 "nbformat_minor": 5
}
