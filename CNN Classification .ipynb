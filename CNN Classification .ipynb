{
 "cells": [
  {
   "cell_type": "code",
   "execution_count": 6,
   "id": "a38892aa",
   "metadata": {},
   "outputs": [],
   "source": [
    "from keras.models import Model\n",
    "from keras.layers import Input, Dense, Conv2D, MaxPool2D, Flatten, Dropout, MaxPooling2D\n",
    "from keras.utils import to_categorical\n",
    "from sklearn.metrics import confusion_matrix\n",
    "from keras.optimizers import Adam\n",
    "from keras.utils.vis_utils import plot_model\n",
    "import matplotlib.pyplot as plt\n",
    "import numpy as np\n",
    "import cv2\n",
    "import os"
   ]
  },
  {
   "cell_type": "code",
   "execution_count": 7,
   "id": "ace777e4",
   "metadata": {},
   "outputs": [],
   "source": [
    "input = Input(shape=(112, 112, 3))\n",
    "conv1 = Conv2D(32, (3, 3), activation='relu')(input)\n",
    "pool1 = MaxPool2D(pool_size=(2, 2))(conv1)\n",
    "\n",
    "conv2 = Conv2D(64, (3, 3), activation='relu')(pool1)\n",
    "pool2 = MaxPool2D(pool_size=(2, 2))(conv2)\n",
    "flatten = Flatten()(pool2)\n",
    "dense1 = Dense(128, activation='relu')(flatten)\n",
    "dropout2 = Dropout(0.2)(dense1)\n",
    "output = Dense(4, activation='softmax')(dropout2)\n",
    "model = Model(inputs=input, outputs=output)"
   ]
  },
  {
   "cell_type": "code",
   "execution_count": 8,
   "id": "f8509cf2",
   "metadata": {},
   "outputs": [],
   "source": [
    "model.compile(optimizer=Adam(learning_rate=0.0001),\n",
    "              loss='categorical_crossentropy',\n",
    "              metrics=['accuracy'])"
   ]
  },
  {
   "cell_type": "code",
   "execution_count": 9,
   "id": "070f1556",
   "metadata": {},
   "outputs": [
    {
     "name": "stdout",
     "output_type": "stream",
     "text": [
      "Model: \"model_1\"\n",
      "_________________________________________________________________\n",
      " Layer (type)                Output Shape              Param #   \n",
      "=================================================================\n",
      " input_2 (InputLayer)        [(None, 112, 112, 3)]     0         \n",
      "                                                                 \n",
      " conv2d_2 (Conv2D)           (None, 110, 110, 32)      896       \n",
      "                                                                 \n",
      " max_pooling2d_2 (MaxPooling  (None, 55, 55, 32)       0         \n",
      " 2D)                                                             \n",
      "                                                                 \n",
      " conv2d_3 (Conv2D)           (None, 53, 53, 64)        18496     \n",
      "                                                                 \n",
      " max_pooling2d_3 (MaxPooling  (None, 26, 26, 64)       0         \n",
      " 2D)                                                             \n",
      "                                                                 \n",
      " flatten_1 (Flatten)         (None, 43264)             0         \n",
      "                                                                 \n",
      " dense_2 (Dense)             (None, 128)               5537920   \n",
      "                                                                 \n",
      " dropout_1 (Dropout)         (None, 128)               0         \n",
      "                                                                 \n",
      " dense_3 (Dense)             (None, 4)                 516       \n",
      "                                                                 \n",
      "=================================================================\n",
      "Total params: 5,557,828\n",
      "Trainable params: 5,557,828\n",
      "Non-trainable params: 0\n",
      "_________________________________________________________________\n"
     ]
    }
   ],
   "source": [
    "model.summary()"
   ]
  },
  {
   "cell_type": "code",
   "execution_count": 10,
   "id": "ecac04f4",
   "metadata": {},
   "outputs": [
    {
     "name": "stdout",
     "output_type": "stream",
     "text": [
      "x_train (1600, 112, 112, 3)\n",
      "y_train (1600, 4)\n",
      "x_valid (200, 112, 112, 3)\n",
      "y_valid (200, 4)\n"
     ]
    }
   ],
   "source": [
    "N = 1600\n",
    "x_train = np.zeros((N, 112, 112, 3), 'float')\n",
    "y_train = np.zeros((N), 'float')\n",
    "\n",
    "count = 0\n",
    "class_labels = sorted(os.listdir(\"Dataset/train\"))\n",
    "for i, class_label in enumerate(class_labels):\n",
    "    image_files = sorted(os.listdir(os.path.join(\"Dataset/train\", class_label)))\n",
    "    for image_file in image_files:\n",
    "        im = cv2.imread(os.path.join(\"Dataset/train\", class_label, image_file))\n",
    "        im = cv2.resize(im, (112, 112))\n",
    "        x_train[count, :, :, :] = im / 255.\n",
    "        y_train[count] = i\n",
    "        count += 1\n",
    "\n",
    "y_train = to_categorical(y_train)\n",
    "print('x_train', x_train.shape)\n",
    "print('y_train', y_train.shape)\n",
    "\n",
    "N2 = 200\n",
    "x_valid = np.zeros((N2, 112, 112, 3), 'float')\n",
    "y_valid = np.zeros((N2), 'float')\n",
    "\n",
    "count2 = 0\n",
    "class_labels = sorted(os.listdir(\"Dataset/val\"))\n",
    "for j, class_label in enumerate(class_labels):\n",
    "    image_files = sorted(os.listdir(os.path.join(\"Dataset/val\", class_label)))\n",
    "    for image_file in image_files:\n",
    "        im = cv2.imread(os.path.join(\"Dataset/val\", class_label, image_file))\n",
    "        im = cv2.resize(im, (112, 112))\n",
    "        x_valid[count2, :, :, :] = im / 255.\n",
    "        y_valid[count2] = j\n",
    "        count2 += 1\n",
    "\n",
    "y_valid = to_categorical(y_valid)\n",
    "print('x_valid', x_valid.shape)\n",
    "print('y_valid', y_valid.shape)"
   ]
  },
  {
   "cell_type": "code",
   "execution_count": 11,
   "id": "2129fb43",
   "metadata": {},
   "outputs": [
    {
     "name": "stdout",
     "output_type": "stream",
     "text": [
      "Epoch 1/70\n",
      "25/25 [==============================] - 14s 490ms/step - loss: 1.3420 - accuracy: 0.3663 - val_loss: 1.2279 - val_accuracy: 0.4550\n",
      "Epoch 2/70\n",
      "25/25 [==============================] - 11s 442ms/step - loss: 1.1439 - accuracy: 0.5544 - val_loss: 1.0735 - val_accuracy: 0.5750\n",
      "Epoch 3/70\n",
      "25/25 [==============================] - 11s 440ms/step - loss: 1.0152 - accuracy: 0.5938 - val_loss: 1.0110 - val_accuracy: 0.5700\n",
      "Epoch 4/70\n",
      "25/25 [==============================] - 10s 417ms/step - loss: 0.9165 - accuracy: 0.6556 - val_loss: 0.9395 - val_accuracy: 0.6300\n",
      "Epoch 5/70\n",
      "25/25 [==============================] - 10s 416ms/step - loss: 0.8341 - accuracy: 0.6831 - val_loss: 0.9074 - val_accuracy: 0.6400\n",
      "Epoch 6/70\n",
      "25/25 [==============================] - 10s 420ms/step - loss: 0.7657 - accuracy: 0.7219 - val_loss: 0.8308 - val_accuracy: 0.6850\n",
      "Epoch 7/70\n",
      "25/25 [==============================] - 10s 416ms/step - loss: 0.6947 - accuracy: 0.7531 - val_loss: 0.9009 - val_accuracy: 0.6150\n",
      "Epoch 8/70\n",
      "25/25 [==============================] - 11s 425ms/step - loss: 0.6547 - accuracy: 0.7663 - val_loss: 0.8035 - val_accuracy: 0.6950\n",
      "Epoch 9/70\n",
      "25/25 [==============================] - 10s 419ms/step - loss: 0.6014 - accuracy: 0.7856 - val_loss: 0.7707 - val_accuracy: 0.7100\n",
      "Epoch 10/70\n",
      "25/25 [==============================] - 11s 423ms/step - loss: 0.5633 - accuracy: 0.8119 - val_loss: 0.7264 - val_accuracy: 0.7100\n",
      "Epoch 11/70\n",
      "25/25 [==============================] - 10s 418ms/step - loss: 0.5427 - accuracy: 0.8238 - val_loss: 0.7444 - val_accuracy: 0.6950\n",
      "Epoch 12/70\n",
      "25/25 [==============================] - 11s 425ms/step - loss: 0.5114 - accuracy: 0.8281 - val_loss: 0.6987 - val_accuracy: 0.7450\n",
      "Epoch 13/70\n",
      "25/25 [==============================] - 10s 421ms/step - loss: 0.4580 - accuracy: 0.8537 - val_loss: 0.7079 - val_accuracy: 0.7150\n",
      "Epoch 14/70\n",
      "25/25 [==============================] - 10s 413ms/step - loss: 0.4491 - accuracy: 0.8631 - val_loss: 0.6840 - val_accuracy: 0.7550\n",
      "Epoch 15/70\n",
      "25/25 [==============================] - 11s 448ms/step - loss: 0.4162 - accuracy: 0.8694 - val_loss: 0.6787 - val_accuracy: 0.7550\n",
      "Epoch 16/70\n",
      "25/25 [==============================] - 12s 463ms/step - loss: 0.3841 - accuracy: 0.8850 - val_loss: 0.6786 - val_accuracy: 0.7450\n",
      "Epoch 17/70\n",
      "25/25 [==============================] - 11s 460ms/step - loss: 0.3557 - accuracy: 0.8969 - val_loss: 0.6591 - val_accuracy: 0.7100\n",
      "Epoch 18/70\n",
      "25/25 [==============================] - 11s 444ms/step - loss: 0.3447 - accuracy: 0.9031 - val_loss: 0.7196 - val_accuracy: 0.7250\n",
      "Epoch 19/70\n",
      "25/25 [==============================] - 10s 419ms/step - loss: 0.3270 - accuracy: 0.9119 - val_loss: 0.6416 - val_accuracy: 0.7500\n",
      "Epoch 20/70\n",
      "25/25 [==============================] - 10s 412ms/step - loss: 0.2878 - accuracy: 0.9262 - val_loss: 0.6440 - val_accuracy: 0.7450\n",
      "Epoch 21/70\n",
      "25/25 [==============================] - 11s 420ms/step - loss: 0.2907 - accuracy: 0.9187 - val_loss: 0.6621 - val_accuracy: 0.7550\n",
      "Epoch 22/70\n",
      "25/25 [==============================] - 10s 418ms/step - loss: 0.2867 - accuracy: 0.9175 - val_loss: 0.6644 - val_accuracy: 0.7400\n",
      "Epoch 23/70\n",
      "25/25 [==============================] - 11s 433ms/step - loss: 0.2617 - accuracy: 0.9300 - val_loss: 0.6289 - val_accuracy: 0.7400\n",
      "Epoch 24/70\n",
      "25/25 [==============================] - 11s 427ms/step - loss: 0.2482 - accuracy: 0.9388 - val_loss: 0.6679 - val_accuracy: 0.7350\n",
      "Epoch 25/70\n",
      "25/25 [==============================] - 11s 422ms/step - loss: 0.2261 - accuracy: 0.9463 - val_loss: 0.6247 - val_accuracy: 0.7650\n",
      "Epoch 26/70\n",
      "25/25 [==============================] - 11s 424ms/step - loss: 0.2164 - accuracy: 0.9531 - val_loss: 0.6629 - val_accuracy: 0.7500\n",
      "Epoch 27/70\n",
      "25/25 [==============================] - 10s 411ms/step - loss: 0.1924 - accuracy: 0.9519 - val_loss: 0.6515 - val_accuracy: 0.7500\n",
      "Epoch 28/70\n",
      "25/25 [==============================] - 10s 410ms/step - loss: 0.1858 - accuracy: 0.9663 - val_loss: 0.6578 - val_accuracy: 0.7300\n",
      "Epoch 29/70\n",
      "25/25 [==============================] - 10s 407ms/step - loss: 0.1720 - accuracy: 0.9631 - val_loss: 0.6424 - val_accuracy: 0.7500\n",
      "Epoch 30/70\n",
      "25/25 [==============================] - 10s 412ms/step - loss: 0.1564 - accuracy: 0.9731 - val_loss: 0.6488 - val_accuracy: 0.7350\n",
      "Epoch 31/70\n",
      "25/25 [==============================] - 11s 430ms/step - loss: 0.1516 - accuracy: 0.9744 - val_loss: 0.6307 - val_accuracy: 0.7650\n",
      "Epoch 32/70\n",
      "25/25 [==============================] - 12s 483ms/step - loss: 0.1397 - accuracy: 0.9794 - val_loss: 0.6650 - val_accuracy: 0.7600\n",
      "Epoch 33/70\n",
      "25/25 [==============================] - 11s 445ms/step - loss: 0.1341 - accuracy: 0.9819 - val_loss: 0.6453 - val_accuracy: 0.7450\n",
      "Epoch 34/70\n",
      "25/25 [==============================] - 11s 431ms/step - loss: 0.1280 - accuracy: 0.9844 - val_loss: 0.6506 - val_accuracy: 0.7550\n",
      "Epoch 35/70\n",
      "25/25 [==============================] - 12s 474ms/step - loss: 0.1153 - accuracy: 0.9875 - val_loss: 0.6690 - val_accuracy: 0.7450\n",
      "Epoch 36/70\n",
      "25/25 [==============================] - 12s 480ms/step - loss: 0.1245 - accuracy: 0.9812 - val_loss: 0.6604 - val_accuracy: 0.7450\n",
      "Epoch 37/70\n",
      "25/25 [==============================] - 12s 477ms/step - loss: 0.1120 - accuracy: 0.9856 - val_loss: 0.6487 - val_accuracy: 0.7600\n",
      "Epoch 38/70\n",
      "25/25 [==============================] - 12s 463ms/step - loss: 0.1102 - accuracy: 0.9831 - val_loss: 0.6727 - val_accuracy: 0.7400\n",
      "Epoch 39/70\n",
      "25/25 [==============================] - 10s 412ms/step - loss: 0.1015 - accuracy: 0.9875 - val_loss: 0.6613 - val_accuracy: 0.7650\n",
      "Epoch 40/70\n",
      "25/25 [==============================] - 10s 418ms/step - loss: 0.0815 - accuracy: 0.9944 - val_loss: 0.6604 - val_accuracy: 0.7750\n",
      "Epoch 41/70\n",
      "25/25 [==============================] - 11s 424ms/step - loss: 0.0817 - accuracy: 0.9906 - val_loss: 0.6871 - val_accuracy: 0.7550\n",
      "Epoch 42/70\n",
      "25/25 [==============================] - 11s 443ms/step - loss: 0.0806 - accuracy: 0.9937 - val_loss: 0.6856 - val_accuracy: 0.7450\n",
      "Epoch 43/70\n",
      "25/25 [==============================] - 11s 437ms/step - loss: 0.0790 - accuracy: 0.9925 - val_loss: 0.6640 - val_accuracy: 0.7600\n",
      "Epoch 44/70\n",
      "25/25 [==============================] - 11s 423ms/step - loss: 0.0713 - accuracy: 0.9919 - val_loss: 0.6696 - val_accuracy: 0.7850\n",
      "Epoch 45/70\n",
      "25/25 [==============================] - 10s 417ms/step - loss: 0.0709 - accuracy: 0.9950 - val_loss: 0.6849 - val_accuracy: 0.7600\n",
      "Epoch 46/70\n",
      "25/25 [==============================] - 10s 414ms/step - loss: 0.0600 - accuracy: 0.9969 - val_loss: 0.6784 - val_accuracy: 0.7650\n",
      "Epoch 47/70\n",
      "25/25 [==============================] - 10s 410ms/step - loss: 0.0619 - accuracy: 0.9969 - val_loss: 0.6938 - val_accuracy: 0.7600\n",
      "Epoch 48/70\n",
      "25/25 [==============================] - 10s 411ms/step - loss: 0.0580 - accuracy: 0.9969 - val_loss: 0.7436 - val_accuracy: 0.7550\n",
      "Epoch 49/70\n",
      "25/25 [==============================] - 10s 413ms/step - loss: 0.0528 - accuracy: 0.9981 - val_loss: 0.7022 - val_accuracy: 0.7550\n",
      "Epoch 50/70\n",
      "25/25 [==============================] - 10s 418ms/step - loss: 0.0566 - accuracy: 0.9981 - val_loss: 0.7087 - val_accuracy: 0.7550\n",
      "Epoch 51/70\n",
      "25/25 [==============================] - 10s 412ms/step - loss: 0.0532 - accuracy: 0.9962 - val_loss: 0.7322 - val_accuracy: 0.7500\n",
      "Epoch 52/70\n",
      "25/25 [==============================] - 10s 409ms/step - loss: 0.0454 - accuracy: 0.9975 - val_loss: 0.7549 - val_accuracy: 0.7500\n",
      "Epoch 53/70\n",
      "25/25 [==============================] - 10s 416ms/step - loss: 0.0479 - accuracy: 0.9969 - val_loss: 0.7159 - val_accuracy: 0.7450\n",
      "Epoch 54/70\n",
      "25/25 [==============================] - 10s 417ms/step - loss: 0.0436 - accuracy: 0.9975 - val_loss: 0.7628 - val_accuracy: 0.7500\n",
      "Epoch 55/70\n",
      "25/25 [==============================] - 10s 416ms/step - loss: 0.0415 - accuracy: 0.9969 - val_loss: 0.7547 - val_accuracy: 0.7400\n",
      "Epoch 56/70\n",
      "25/25 [==============================] - 10s 412ms/step - loss: 0.0410 - accuracy: 0.9987 - val_loss: 0.7635 - val_accuracy: 0.7450\n",
      "Epoch 57/70\n",
      "25/25 [==============================] - 10s 408ms/step - loss: 0.0386 - accuracy: 0.9975 - val_loss: 0.7410 - val_accuracy: 0.7500\n",
      "Epoch 58/70\n",
      "25/25 [==============================] - 10s 412ms/step - loss: 0.0365 - accuracy: 1.0000 - val_loss: 0.7826 - val_accuracy: 0.7500\n",
      "Epoch 59/70\n",
      "25/25 [==============================] - 10s 416ms/step - loss: 0.0378 - accuracy: 0.9987 - val_loss: 0.8254 - val_accuracy: 0.7450\n",
      "Epoch 60/70\n",
      "25/25 [==============================] - 10s 407ms/step - loss: 0.0355 - accuracy: 0.9987 - val_loss: 0.7553 - val_accuracy: 0.7400\n",
      "Epoch 61/70\n",
      "25/25 [==============================] - 10s 395ms/step - loss: 0.0305 - accuracy: 1.0000 - val_loss: 0.7604 - val_accuracy: 0.7550\n",
      "Epoch 62/70\n",
      "25/25 [==============================] - 10s 389ms/step - loss: 0.0312 - accuracy: 1.0000 - val_loss: 0.7888 - val_accuracy: 0.7500\n",
      "Epoch 63/70\n",
      "25/25 [==============================] - 10s 384ms/step - loss: 0.0278 - accuracy: 0.9987 - val_loss: 0.7758 - val_accuracy: 0.7650\n",
      "Epoch 64/70\n",
      "25/25 [==============================] - 10s 387ms/step - loss: 0.0245 - accuracy: 1.0000 - val_loss: 0.7774 - val_accuracy: 0.7550\n",
      "Epoch 65/70\n",
      "25/25 [==============================] - 10s 385ms/step - loss: 0.0244 - accuracy: 1.0000 - val_loss: 0.7969 - val_accuracy: 0.7450\n",
      "Epoch 66/70\n",
      "25/25 [==============================] - 10s 384ms/step - loss: 0.0230 - accuracy: 1.0000 - val_loss: 0.7835 - val_accuracy: 0.7650\n",
      "Epoch 67/70\n",
      "25/25 [==============================] - 10s 383ms/step - loss: 0.0216 - accuracy: 1.0000 - val_loss: 0.8055 - val_accuracy: 0.7500\n",
      "Epoch 68/70\n",
      "25/25 [==============================] - 10s 389ms/step - loss: 0.0239 - accuracy: 0.9987 - val_loss: 0.8355 - val_accuracy: 0.7550\n",
      "Epoch 69/70\n",
      "25/25 [==============================] - 10s 382ms/step - loss: 0.0234 - accuracy: 1.0000 - val_loss: 0.7917 - val_accuracy: 0.7600\n",
      "Epoch 70/70\n",
      "25/25 [==============================] - 10s 383ms/step - loss: 0.0228 - accuracy: 0.9994 - val_loss: 0.8151 - val_accuracy: 0.7450\n"
     ]
    }
   ],
   "source": [
    "# Train Model\n",
    "h = model.fit(x_train, y_train, validation_data=(\n",
    "    x_valid, y_valid), epochs=70, batch_size=64, verbose=1)\n"
   ]
  },
  {
   "cell_type": "code",
   "execution_count": 12,
   "id": "0b9f21a7",
   "metadata": {},
   "outputs": [
    {
     "data": {
      "image/png": "[encoded data removed]",
      "text/plain": [
       "<Figure size 640x480 with 1 Axes>"
      ]
     },
     "metadata": {},
     "output_type": "display_data"
    }
   ],
   "source": [
    "plt.plot(h.history['accuracy'])\n",
    "plt.title('Model Accuracy')\n",
    "plt.ylabel('Accuracy')\n",
    "plt.xlabel('Epoch')\n",
    "plt.legend(['Train Accuracy'], loc='upper left')\n",
    "plt.show()"
   ]
  },
  {
   "cell_type": "code",
   "execution_count": 19,
   "id": "7ebe12e8",
   "metadata": {},
   "outputs": [
    {
     "data": {
      "image/png": "[encoded data removed]",
      "text/plain": [
       "<Figure size 640x480 with 1 Axes>"
      ]
     },
     "metadata": {},
     "output_type": "display_data"
    }
   ],
   "source": [
    "plt.plot(h.history['loss'])\n",
    "plt.title('Model Loss')\n",
    "plt.ylabel('Loss')\n",
    "plt.xlabel('Epoch')\n",
    "plt.legend(['Train Loss'], loc='upper left')\n",
    "plt.show()\n",
    "\n",
    "model.save('my_model.h5')"
   ]
  },
  {
   "cell_type": "code",
   "execution_count": 14,
   "id": "d6d28c16",
   "metadata": {},
   "outputs": [
    {
     "name": "stdout",
     "output_type": "stream",
     "text": [
      "x_test (200, 112, 112, 3)\n",
      "y_test (200, 4)\n"
     ]
    }
   ],
   "source": [
    "N = 200\n",
    "x_test = np.zeros((N, 112, 112, 3), 'float')\n",
    "y_test = np.zeros((N), 'float')\n",
    "\n",
    "count = 0\n",
    "class_labels = sorted(os.listdir(\"Dataset/test\"))\n",
    "for i, class_label in enumerate(class_labels):\n",
    "    image_files = sorted(os.listdir(os.path.join(\"Dataset/test\", class_label)))\n",
    "    for image_file in image_files:\n",
    "        im = cv2.imread(os.path.join(\"Dataset/test\", class_label, image_file), cv2.IMREAD_COLOR)\n",
    "        im = cv2.resize(im, (112, 112))\n",
    "        x_test[count] = im / 255.\n",
    "        y_test[count] = i\n",
    "        count += 1\n",
    "\n",
    "y_test = to_categorical(y_test)\n",
    "print('x_test', x_test.shape)\n",
    "print('y_test', y_test.shape)"
   ]
  },
  {
   "cell_type": "code",
   "execution_count": 15,
   "id": "d1e3f499",
   "metadata": {},
   "outputs": [
    {
     "name": "stdout",
     "output_type": "stream",
     "text": [
      "7/7 [==============================] - 0s 38ms/step\n"
     ]
    }
   ],
   "source": [
    "# Make predictions on the test data\n",
    "y_pred = model.predict(x_test)\n",
    "\n",
    "# Get the class predictions and confidence scores\n",
    "class_preds = y_pred.argmax(axis=1)\n",
    "confidences = np.max(y_pred, axis=-1)\n",
    "\n",
    "# Define the class names\n",
    "class_names = ['B', 'D', 'R', 'S']\n",
    "\n",
    "# Define the test data directory\n",
    "test_dir = 'Dataset/test/'\n",
    "\n",
    "test_images = []\n",
    "for class_folder in os.listdir(test_dir):\n",
    "    class_folder_path = os.path.join(test_dir, class_folder)\n",
    "    if os.path.isdir(class_folder_path):\n",
    "        for image_file in os.listdir(class_folder_path):\n",
    "            if image_file.endswith('.jpg'):\n",
    "                image_path = os.path.join(class_folder_path, image_file)\n",
    "                test_images.append(image_path)\n"
   ]
  },
  {
   "cell_type": "code",
   "execution_count": 16,
   "id": "1b9af351",
   "metadata": {},
   "outputs": [],
   "source": [
    "# Save the predictions to a file\n",
    "with open('predictions.txt', 'w') as f:\n",
    "    for i in range(len(test_images)):\n",
    "        image_name = os.path.basename(test_images[i])\n",
    "        class_name = class_names[class_preds[i]]\n",
    "        confidence = confidences[i]\n",
    "        f.write(\"{}: ,{}\\n\".format(\n",
    "            image_name, class_name))"
   ]
  },
  {
   "cell_type": "code",
   "execution_count": 17,
   "id": "1029b7d1",
   "metadata": {},
   "outputs": [
    {
     "name": "stdout",
     "output_type": "stream",
     "text": [
      "7/7 [==============================] - 0s 38ms/step - loss: 0.8534 - accuracy: 0.7250\n",
      "Test loss: 0.8533641695976257\n",
      "Test accuracy: 72.50000238418579\n"
     ]
    }
   ],
   "source": [
    "# Evaluate model on test dataset\n",
    "loss, accuracy = model.evaluate(x_test, y_test)\n",
    "print(\"Test loss:\", loss)\n",
    "print(\"Test accuracy:\", accuracy*100)"
   ]
  },
  {
   "cell_type": "code",
   "execution_count": 18,
   "id": "6450b93e",
   "metadata": {},
   "outputs": [
    {
     "name": "stdout",
     "output_type": "stream",
     "text": [
      "Confusion Matrix:\n",
      " [[37  2  5  6]\n",
      " [ 2 36  5  7]\n",
      " [ 1  7 41  1]\n",
      " [ 8 10  1 31]]\n"
     ]
    }
   ],
   "source": [
    "# Compute the confusion matrix\n",
    "cm = confusion_matrix(np.argmax(y_test, axis=-1), class_preds)\n",
    "print(\"Confusion Matrix:\\n\", cm)\n"
   ]
  }
 ],
 "metadata": {
  "kernelspec": {
   "display_name": "Python 3 (ipykernel)",
   "language": "python",
   "name": "python3"
  },
  "language_info": {
   "codemirror_mode": {
    "name": "ipython",
    "version": 3
   },
   "file_extension": ".py",
   "mimetype": "text/x-python",
   "name": "python",
   "nbconvert_exporter": "python",
   "pygments_lexer": "ipython3",
   "version": "3.11.1"
  }
 },
 "nbformat": 4,
 "nbformat_minor": 5
}
