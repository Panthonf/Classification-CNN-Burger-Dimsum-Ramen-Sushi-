{
 "cells": [
  {
   "cell_type": "code",
   "execution_count": 1,
   "id": "a38892aa",
   "metadata": {},
   "outputs": [],
   "source": [
    "from keras.models import Model\n",
    "from keras.layers import Input, Dense, Conv2D, MaxPool2D, Flatten, Dropout, MaxPooling2D, LeakyReLU\n",
    "from keras.utils import to_categorical\n",
    "from sklearn.metrics import confusion_matrix\n",
    "from keras.optimizers import Adam\n",
    "from keras.utils.vis_utils import plot_model\n",
    "import matplotlib.pyplot as plt\n",
    "import numpy as np\n",
    "import cv2\n",
    "import os"
   ]
  },
  {
   "cell_type": "code",
   "execution_count": 2,
   "id": "ace777e4",
   "metadata": {},
   "outputs": [],
   "source": [
    "# Define the model architecture\n",
    "shape = 160\n",
    "input_layer = Input(shape=(shape, shape, 3))\n",
    "conv_layer_1 = Conv2D(filters=32, kernel_size=(3, 3))(input_layer)\n",
    "activation_layer_1 = LeakyReLU(alpha=0.1)(conv_layer_1)\n",
    "dropout_layer_1 = Dropout(rate=0.2)(activation_layer_1)\n",
    "pooling_layer_1 = MaxPool2D(pool_size=(2, 2))(dropout_layer_1)\n",
    "conv_layer_2 = Conv2D(filters=64, kernel_size=(3, 3))(pooling_layer_1)\n",
    "activation_layer_2 = LeakyReLU(alpha=0.1)(conv_layer_2)\n",
    "dropout_layer_2 = Dropout(rate=0.2)(activation_layer_2)\n",
    "pooling_layer_2 = MaxPool2D(pool_size=(2, 2))(dropout_layer_2)\n",
    "conv_layer_3 = Conv2D(filters=128, kernel_size=(3, 3))(pooling_layer_2)\n",
    "activation_layer_3 = LeakyReLU(alpha=0.1)(conv_layer_3)\n",
    "dropout_layer_3 = Dropout(rate=0.2)(activation_layer_3)\n",
    "pooling_layer_3 = MaxPool2D(pool_size=(2, 2))(dropout_layer_3)\n",
    "conv_layer_4 = Conv2D(filters=256, kernel_size=(3, 3))(pooling_layer_3)\n",
    "activation_layer_4 = LeakyReLU(alpha=0.1)(conv_layer_4)\n",
    "dropout_layer_4 = Dropout(rate=0.2)(activation_layer_4)\n",
    "pooling_layer_4 = MaxPool2D(pool_size=(2, 2))(dropout_layer_4)\n",
    "conv_layer_5 = Conv2D(filters=512, kernel_size=(3, 3))(pooling_layer_4)\n",
    "activation_layer_5 = LeakyReLU(alpha=0.1)(conv_layer_5)\n",
    "dropout_layer_5 = Dropout(rate=0.2)(activation_layer_5)\n",
    "pooling_layer_5 = MaxPool2D(pool_size=(2, 2))(dropout_layer_5)\n",
    "flatten_layer = Flatten()(pooling_layer_5)\n",
    "dense_layer_1 = Dense(units=1024)(flatten_layer)\n",
    "activation_layer_6 = LeakyReLU(alpha=0.1)(dense_layer_1)\n",
    "dropout_layer_6 = Dropout(rate=0.2)(activation_layer_6)\n",
    "output_layer = Dense(units=4, activation='softmax')(dropout_layer_6)\n",
    "\n",
    "# Create the model\n",
    "model = Model(inputs=input_layer, outputs=output_layer)"
   ]
  },
  {
   "cell_type": "code",
   "execution_count": 3,
   "id": "f8509cf2",
   "metadata": {},
   "outputs": [],
   "source": [
    "model.compile(optimizer=Adam(learning_rate=0.0001),\n",
    "              loss='categorical_crossentropy',\n",
    "              metrics=['accuracy'])"
   ]
  },
  {
   "cell_type": "code",
   "execution_count": 4,
   "id": "070f1556",
   "metadata": {},
   "outputs": [
    {
     "name": "stdout",
     "output_type": "stream",
     "text": [
      "Model: \"model\"\n",
      "_________________________________________________________________\n",
      " Layer (type)                Output Shape              Param #   \n",
      "=================================================================\n",
      " input_1 (InputLayer)        [(None, 160, 160, 3)]     0         \n",
      "                                                                 \n",
      " conv2d (Conv2D)             (None, 158, 158, 32)      896       \n",
      "                                                                 \n",
      " leaky_re_lu (LeakyReLU)     (None, 158, 158, 32)      0         \n",
      "                                                                 \n",
      " dropout (Dropout)           (None, 158, 158, 32)      0         \n",
      "                                                                 \n",
      " max_pooling2d (MaxPooling2D  (None, 79, 79, 32)       0         \n",
      " )                                                               \n",
      "                                                                 \n",
      " conv2d_1 (Conv2D)           (None, 77, 77, 64)        18496     \n",
      "                                                                 \n",
      " leaky_re_lu_1 (LeakyReLU)   (None, 77, 77, 64)        0         \n",
      "                                                                 \n",
      " dropout_1 (Dropout)         (None, 77, 77, 64)        0         \n",
      "                                                                 \n",
      " max_pooling2d_1 (MaxPooling  (None, 38, 38, 64)       0         \n",
      " 2D)                                                             \n",
      "                                                                 \n",
      " conv2d_2 (Conv2D)           (None, 36, 36, 128)       73856     \n",
      "                                                                 \n",
      " leaky_re_lu_2 (LeakyReLU)   (None, 36, 36, 128)       0         \n",
      "                                                                 \n",
      " dropout_2 (Dropout)         (None, 36, 36, 128)       0         \n",
      "                                                                 \n",
      " max_pooling2d_2 (MaxPooling  (None, 18, 18, 128)      0         \n",
      " 2D)                                                             \n",
      "                                                                 \n",
      " conv2d_3 (Conv2D)           (None, 16, 16, 256)       295168    \n",
      "                                                                 \n",
      " leaky_re_lu_3 (LeakyReLU)   (None, 16, 16, 256)       0         \n",
      "                                                                 \n",
      " dropout_3 (Dropout)         (None, 16, 16, 256)       0         \n",
      "                                                                 \n",
      " max_pooling2d_3 (MaxPooling  (None, 8, 8, 256)        0         \n",
      " 2D)                                                             \n",
      "                                                                 \n",
      " conv2d_4 (Conv2D)           (None, 6, 6, 512)         1180160   \n",
      "                                                                 \n",
      " leaky_re_lu_4 (LeakyReLU)   (None, 6, 6, 512)         0         \n",
      "                                                                 \n",
      " dropout_4 (Dropout)         (None, 6, 6, 512)         0         \n",
      "                                                                 \n",
      " max_pooling2d_4 (MaxPooling  (None, 3, 3, 512)        0         \n",
      " 2D)                                                             \n",
      "                                                                 \n",
      " flatten (Flatten)           (None, 4608)              0         \n",
      "                                                                 \n",
      " dense (Dense)               (None, 1024)              4719616   \n",
      "                                                                 \n",
      " leaky_re_lu_5 (LeakyReLU)   (None, 1024)              0         \n",
      "                                                                 \n",
      " dropout_5 (Dropout)         (None, 1024)              0         \n",
      "                                                                 \n",
      " dense_1 (Dense)             (None, 4)                 4100      \n",
      "                                                                 \n",
      "=================================================================\n",
      "Total params: 6,292,292\n",
      "Trainable params: 6,292,292\n",
      "Non-trainable params: 0\n",
      "_________________________________________________________________\n"
     ]
    }
   ],
   "source": [
    "model.summary()"
   ]
  },
  {
   "cell_type": "code",
   "execution_count": 5,
   "id": "ecac04f4",
   "metadata": {},
   "outputs": [
    {
     "name": "stdout",
     "output_type": "stream",
     "text": [
      "x_train (1600, 160, 160, 3)\n",
      "y_train (1600, 4)\n",
      "x_valid (200, 160, 160, 3)\n",
      "y_valid (200, 4)\n"
     ]
    }
   ],
   "source": [
    "N = 1600\n",
    "x_train = np.zeros((N, shape, shape, 3), 'float')\n",
    "y_train = np.zeros((N), 'float')\n",
    "\n",
    "count = 0\n",
    "class_labels = sorted(os.listdir(\"Dataset/train\"))\n",
    "for i, class_label in enumerate(class_labels):\n",
    "    image_files = sorted(os.listdir(os.path.join(\"Dataset/train\", class_label)))\n",
    "    for image_file in image_files:\n",
    "        im = cv2.imread(os.path.join(\"Dataset/train\", class_label, image_file))\n",
    "        im = cv2.resize(im, (shape, shape))\n",
    "        x_train[count, :, :, :] = im / 255.\n",
    "        y_train[count] = i\n",
    "        count += 1\n",
    "\n",
    "y_train = to_categorical(y_train)\n",
    "print('x_train', x_train.shape)\n",
    "print('y_train', y_train.shape)\n",
    "\n",
    "N2 = 200\n",
    "x_valid = np.zeros((N2, shape, shape, 3), 'float')\n",
    "y_valid = np.zeros((N2), 'float')\n",
    "\n",
    "count2 = 0\n",
    "class_labels = sorted(os.listdir(\"Dataset/val\"))\n",
    "for j, class_label in enumerate(class_labels):\n",
    "    image_files = sorted(os.listdir(os.path.join(\"Dataset/val\", class_label)))\n",
    "    for image_file in image_files:\n",
    "        im = cv2.imread(os.path.join(\"Dataset/val\", class_label, image_file))\n",
    "        im = cv2.resize(im, (shape, shape))\n",
    "        x_valid[count2, :, :, :] = im / 255.\n",
    "        y_valid[count2] = j\n",
    "        count2 += 1\n",
    "\n",
    "y_valid = to_categorical(y_valid)\n",
    "print('x_valid', x_valid.shape)\n",
    "print('y_valid', y_valid.shape)"
   ]
  },
  {
   "cell_type": "code",
   "execution_count": 6,
   "id": "2129fb43",
   "metadata": {},
   "outputs": [
    {
     "name": "stdout",
     "output_type": "stream",
     "text": [
      "Epoch 1/50\n",
      "25/25 [==============================] - 53s 2s/step - loss: 1.3496 - accuracy: 0.3313 - val_loss: 1.3312 - val_accuracy: 0.4700\n",
      "Epoch 2/50\n",
      "25/25 [==============================] - 50s 2s/step - loss: 1.2220 - accuracy: 0.4625 - val_loss: 1.2540 - val_accuracy: 0.5150\n",
      "Epoch 3/50\n",
      "25/25 [==============================] - 49s 2s/step - loss: 1.0888 - accuracy: 0.5437 - val_loss: 1.1710 - val_accuracy: 0.6100\n",
      "Epoch 4/50\n",
      "25/25 [==============================] - 50s 2s/step - loss: 0.9642 - accuracy: 0.6237 - val_loss: 1.1055 - val_accuracy: 0.6050\n",
      "Epoch 5/50\n",
      "25/25 [==============================] - 48s 2s/step - loss: 0.8903 - accuracy: 0.6381 - val_loss: 1.0636 - val_accuracy: 0.6300\n",
      "Epoch 6/50\n",
      "25/25 [==============================] - 47s 2s/step - loss: 0.8453 - accuracy: 0.6656 - val_loss: 1.0274 - val_accuracy: 0.6750\n",
      "Epoch 7/50\n",
      "25/25 [==============================] - 47s 2s/step - loss: 0.7492 - accuracy: 0.7100 - val_loss: 0.9756 - val_accuracy: 0.6650\n",
      "Epoch 8/50\n",
      "25/25 [==============================] - 47s 2s/step - loss: 0.6600 - accuracy: 0.7556 - val_loss: 0.9387 - val_accuracy: 0.6700\n",
      "Epoch 9/50\n",
      "25/25 [==============================] - 47s 2s/step - loss: 0.5976 - accuracy: 0.7825 - val_loss: 0.9122 - val_accuracy: 0.6950\n",
      "Epoch 10/50\n",
      "25/25 [==============================] - 47s 2s/step - loss: 0.5815 - accuracy: 0.7825 - val_loss: 0.8950 - val_accuracy: 0.6950\n",
      "Epoch 11/50\n",
      "25/25 [==============================] - 47s 2s/step - loss: 0.5551 - accuracy: 0.7962 - val_loss: 0.8663 - val_accuracy: 0.7150\n",
      "Epoch 12/50\n",
      "25/25 [==============================] - 48s 2s/step - loss: 0.4811 - accuracy: 0.8288 - val_loss: 0.8080 - val_accuracy: 0.7450\n",
      "Epoch 13/50\n",
      "25/25 [==============================] - 47s 2s/step - loss: 0.4563 - accuracy: 0.8263 - val_loss: 0.9104 - val_accuracy: 0.6300\n",
      "Epoch 14/50\n",
      "25/25 [==============================] - 47s 2s/step - loss: 0.4861 - accuracy: 0.8206 - val_loss: 0.7976 - val_accuracy: 0.7450\n",
      "Epoch 15/50\n",
      "25/25 [==============================] - 47s 2s/step - loss: 0.4064 - accuracy: 0.8500 - val_loss: 0.8479 - val_accuracy: 0.7100\n",
      "Epoch 16/50\n",
      "25/25 [==============================] - 47s 2s/step - loss: 0.3281 - accuracy: 0.8919 - val_loss: 0.7533 - val_accuracy: 0.7500\n",
      "Epoch 17/50\n",
      "25/25 [==============================] - 47s 2s/step - loss: 0.3362 - accuracy: 0.8813 - val_loss: 0.7137 - val_accuracy: 0.7800\n",
      "Epoch 18/50\n",
      "25/25 [==============================] - 47s 2s/step - loss: 0.2739 - accuracy: 0.9087 - val_loss: 0.6887 - val_accuracy: 0.7800\n",
      "Epoch 19/50\n",
      "25/25 [==============================] - 47s 2s/step - loss: 0.2512 - accuracy: 0.9200 - val_loss: 0.7220 - val_accuracy: 0.7450\n",
      "Epoch 20/50\n",
      "25/25 [==============================] - 47s 2s/step - loss: 0.2044 - accuracy: 0.9337 - val_loss: 0.6693 - val_accuracy: 0.7700\n",
      "Epoch 21/50\n",
      "25/25 [==============================] - 47s 2s/step - loss: 0.2152 - accuracy: 0.9325 - val_loss: 0.6440 - val_accuracy: 0.7650\n",
      "Epoch 22/50\n",
      "25/25 [==============================] - 47s 2s/step - loss: 0.1679 - accuracy: 0.9469 - val_loss: 0.6787 - val_accuracy: 0.7400\n",
      "Epoch 23/50\n",
      "25/25 [==============================] - 47s 2s/step - loss: 0.1413 - accuracy: 0.9594 - val_loss: 0.7191 - val_accuracy: 0.7000\n",
      "Epoch 24/50\n",
      "25/25 [==============================] - 47s 2s/step - loss: 0.1309 - accuracy: 0.9631 - val_loss: 0.6120 - val_accuracy: 0.7800\n",
      "Epoch 25/50\n",
      "25/25 [==============================] - 47s 2s/step - loss: 0.1269 - accuracy: 0.9638 - val_loss: 0.6063 - val_accuracy: 0.7600\n",
      "Epoch 26/50\n",
      "25/25 [==============================] - 47s 2s/step - loss: 0.0937 - accuracy: 0.9794 - val_loss: 0.5884 - val_accuracy: 0.7850\n",
      "Epoch 27/50\n",
      "25/25 [==============================] - 48s 2s/step - loss: 0.0607 - accuracy: 0.9894 - val_loss: 0.5653 - val_accuracy: 0.7900\n",
      "Epoch 28/50\n",
      "25/25 [==============================] - 47s 2s/step - loss: 0.0598 - accuracy: 0.9862 - val_loss: 0.5843 - val_accuracy: 0.7900\n",
      "Epoch 29/50\n",
      "25/25 [==============================] - 47s 2s/step - loss: 0.0678 - accuracy: 0.9850 - val_loss: 0.6265 - val_accuracy: 0.7650\n",
      "Epoch 30/50\n",
      "25/25 [==============================] - 47s 2s/step - loss: 0.0751 - accuracy: 0.9787 - val_loss: 0.6666 - val_accuracy: 0.7250\n",
      "Epoch 31/50\n",
      "25/25 [==============================] - 47s 2s/step - loss: 0.0650 - accuracy: 0.9856 - val_loss: 0.6043 - val_accuracy: 0.7700\n",
      "Epoch 32/50\n",
      "25/25 [==============================] - 47s 2s/step - loss: 0.0285 - accuracy: 0.9969 - val_loss: 0.5425 - val_accuracy: 0.8000\n",
      "Epoch 33/50\n",
      "25/25 [==============================] - 54s 2s/step - loss: 0.0182 - accuracy: 0.9994 - val_loss: 0.5238 - val_accuracy: 0.7900\n",
      "Epoch 34/50\n",
      "25/25 [==============================] - 56s 2s/step - loss: 0.0154 - accuracy: 0.9994 - val_loss: 0.5234 - val_accuracy: 0.7850\n",
      "Epoch 35/50\n",
      "25/25 [==============================] - 60s 2s/step - loss: 0.0158 - accuracy: 0.9994 - val_loss: 0.5429 - val_accuracy: 0.7900\n",
      "Epoch 36/50\n",
      "25/25 [==============================] - 60s 2s/step - loss: 0.0162 - accuracy: 0.9981 - val_loss: 0.5263 - val_accuracy: 0.7850\n",
      "Epoch 37/50\n",
      "25/25 [==============================] - 62s 3s/step - loss: 0.0109 - accuracy: 1.0000 - val_loss: 0.5189 - val_accuracy: 0.7950\n",
      "Epoch 38/50\n",
      "25/25 [==============================] - 58s 2s/step - loss: 0.0115 - accuracy: 0.9994 - val_loss: 0.5169 - val_accuracy: 0.8000\n",
      "Epoch 39/50\n",
      "25/25 [==============================] - 56s 2s/step - loss: 0.0090 - accuracy: 1.0000 - val_loss: 0.5299 - val_accuracy: 0.7800\n",
      "Epoch 40/50\n",
      "25/25 [==============================] - 56s 2s/step - loss: 0.0110 - accuracy: 0.9994 - val_loss: 0.5243 - val_accuracy: 0.8050\n",
      "Epoch 41/50\n",
      "25/25 [==============================] - 56s 2s/step - loss: 0.0112 - accuracy: 1.0000 - val_loss: 0.5208 - val_accuracy: 0.8100\n",
      "Epoch 42/50\n",
      "25/25 [==============================] - 57s 2s/step - loss: 0.0086 - accuracy: 0.9994 - val_loss: 0.5675 - val_accuracy: 0.7850\n",
      "Epoch 43/50\n",
      "25/25 [==============================] - 57s 2s/step - loss: 0.0093 - accuracy: 0.9994 - val_loss: 0.5232 - val_accuracy: 0.8000\n",
      "Epoch 44/50\n",
      "25/25 [==============================] - 60s 2s/step - loss: 0.0050 - accuracy: 1.0000 - val_loss: 0.5252 - val_accuracy: 0.7950\n",
      "Epoch 45/50\n",
      "25/25 [==============================] - 61s 2s/step - loss: 0.0046 - accuracy: 1.0000 - val_loss: 0.5309 - val_accuracy: 0.8000\n",
      "Epoch 46/50\n",
      "25/25 [==============================] - 59s 2s/step - loss: 0.0055 - accuracy: 1.0000 - val_loss: 0.5510 - val_accuracy: 0.7650\n",
      "Epoch 47/50\n",
      "25/25 [==============================] - 57s 2s/step - loss: 0.0062 - accuracy: 0.9994 - val_loss: 0.5661 - val_accuracy: 0.7800\n",
      "Epoch 48/50\n",
      "25/25 [==============================] - 90s 4s/step - loss: 0.0055 - accuracy: 0.9994 - val_loss: 0.5426 - val_accuracy: 0.7850\n",
      "Epoch 49/50\n",
      "25/25 [==============================] - 52s 2s/step - loss: 0.0041 - accuracy: 0.9994 - val_loss: 0.5135 - val_accuracy: 0.8000\n",
      "Epoch 50/50\n",
      "25/25 [==============================] - 53s 2s/step - loss: 0.0041 - accuracy: 1.0000 - val_loss: 0.4992 - val_accuracy: 0.8100\n"
     ]
    }
   ],
   "source": [
    "# Train Model\n",
    "h = model.fit(x_train, y_train, validation_data=(\n",
    "    x_valid, y_valid), epochs=50, batch_size=64, verbose=1)"
   ]
  },
  {
   "cell_type": "code",
   "execution_count": 21,
   "id": "0b9f21a7",
   "metadata": {},
   "outputs": [
    {
     "data": {
      "image/png": "[encoded data removed]",
      "text/plain": [
       "<Figure size 640x480 with 1 Axes>"
      ]
     },
     "metadata": {},
     "output_type": "display_data"
    }
   ],
   "source": [
    "plt.plot(h.history['accuracy'])\n",
    "plt.title('Model Accuracy')\n",
    "plt.ylabel('Accuracy')\n",
    "plt.xlabel('Epoch')\n",
    "plt.legend(['Train Accuracy'], loc='upper left')\n",
    "plt.show()"
   ]
  },
  {
   "cell_type": "code",
   "execution_count": 22,
   "id": "7ebe12e8",
   "metadata": {},
   "outputs": [
    {
     "data": {
      "image/png": "[encoded data removed]",
      "text/plain": [
       "<Figure size 640x480 with 1 Axes>"
      ]
     },
     "metadata": {},
     "output_type": "display_data"
    }
   ],
   "source": [
    "plt.plot(h.history['loss'])\n",
    "plt.title('Model Loss')\n",
    "plt.ylabel('Loss')\n",
    "plt.xlabel('Epoch')\n",
    "plt.legend(['Train Loss'], loc='upper left')\n",
    "plt.show()\n",
    "\n",
    "model.save('my_model.h5')"
   ]
  },
  {
   "cell_type": "code",
   "execution_count": 23,
   "id": "d6d28c16",
   "metadata": {},
   "outputs": [
    {
     "name": "stdout",
     "output_type": "stream",
     "text": [
      "x_test (200, 160, 160, 3)\n",
      "y_test (200, 4)\n"
     ]
    }
   ],
   "source": [
    "N = 200\n",
    "x_test = np.zeros((N, shape, shape, 3), 'float')\n",
    "y_test = np.zeros((N), 'float')\n",
    "\n",
    "count = 0\n",
    "class_labels = sorted(os.listdir(\"Dataset/test\"))\n",
    "for i, class_label in enumerate(class_labels):\n",
    "    image_files = sorted(os.listdir(os.path.join(\"Dataset/test\", class_label)))\n",
    "    for image_file in image_files:\n",
    "        im = cv2.imread(os.path.join(\"Dataset/test\", class_label, image_file), cv2.IMREAD_COLOR)\n",
    "        im = cv2.resize(im, (shape, shape))\n",
    "        x_test[count] = im / 255.\n",
    "        y_test[count] = i\n",
    "        count += 1\n",
    "\n",
    "y_test = to_categorical(y_test)\n",
    "print('x_test', x_test.shape)\n",
    "print('y_test', y_test.shape)"
   ]
  },
  {
   "cell_type": "code",
   "execution_count": 24,
   "id": "d1e3f499",
   "metadata": {},
   "outputs": [
    {
     "name": "stdout",
     "output_type": "stream",
     "text": [
      "7/7 [==============================] - 1s 154ms/step\n"
     ]
    }
   ],
   "source": [
    "# Make predictions on the test data\n",
    "y_pred = model.predict(x_test)\n",
    "\n",
    "# Get the class predictions and confidence scores\n",
    "class_preds = y_pred.argmax(axis=1)\n",
    "confidences = np.max(y_pred, axis=-1)\n",
    "\n",
    "# Define the class names\n",
    "class_names = ['B', 'D', 'R', 'S']\n",
    "\n",
    "# Define the test data directory\n",
    "test_dir = 'Dataset/test/'\n",
    "\n",
    "test_images = []\n",
    "for class_folder in os.listdir(test_dir):\n",
    "    class_folder_path = os.path.join(test_dir, class_folder)\n",
    "    if os.path.isdir(class_folder_path):\n",
    "        for image_file in os.listdir(class_folder_path):\n",
    "            if image_file.endswith('.jpg'):\n",
    "                image_path = os.path.join(class_folder_path, image_file)\n",
    "                test_images.append(image_path)\n"
   ]
  },
  {
   "cell_type": "code",
   "execution_count": 25,
   "id": "1b9af351",
   "metadata": {},
   "outputs": [],
   "source": [
    "# Save the predictions to a file\n",
    "with open('predictions.txt', 'w') as f:\n",
    "    for i in range(len(test_images)):\n",
    "        image_name = os.path.basename(test_images[i])\n",
    "        class_name = class_names[class_preds[i]]\n",
    "        confidence = confidences[i]\n",
    "        f.write(\"{}: ,{}\\n\".format(\n",
    "            image_name, class_name))"
   ]
  },
  {
   "cell_type": "code",
   "execution_count": 26,
   "id": "1029b7d1",
   "metadata": {},
   "outputs": [
    {
     "name": "stdout",
     "output_type": "stream",
     "text": [
      "7/7 [==============================] - 1s 153ms/step - loss: 0.5341 - accuracy: 0.8150\n",
      "Test loss: 0.5341264605522156\n",
      "Test accuracy: 81.49999976158142\n"
     ]
    }
   ],
   "source": [
    "# Evaluate model on test dataset\n",
    "loss, accuracy = model.evaluate(x_test, y_test)\n",
    "print(\"Test loss:\", loss)\n",
    "print(\"Test accuracy:\", accuracy*100)"
   ]
  },
  {
   "cell_type": "code",
   "execution_count": 27,
   "id": "6450b93e",
   "metadata": {},
   "outputs": [
    {
     "name": "stdout",
     "output_type": "stream",
     "text": [
      "Confusion Matrix:\n",
      " [[40  1  2  7]\n",
      " [ 0 40  4  6]\n",
      " [ 0  3 45  2]\n",
      " [ 3  5  4 38]]\n"
     ]
    }
   ],
   "source": [
    "# Compute the confusion matrix\n",
    "cm = confusion_matrix(np.argmax(y_test, axis=-1), class_preds)\n",
    "print(\"Confusion Matrix:\\n\", cm)\n"
   ]
  }
 ],
 "metadata": {
  "kernelspec": {
   "display_name": "Python 3 (ipykernel)",
   "language": "python",
   "name": "python3"
  },
  "language_info": {
   "codemirror_mode": {
    "name": "ipython",
    "version": 3
   },
   "file_extension": ".py",
   "mimetype": "text/x-python",
   "name": "python",
   "nbconvert_exporter": "python",
   "pygments_lexer": "ipython3",
   "version": "3.11.1"
  }
 },
 "nbformat": 4,
 "nbformat_minor": 5
}
