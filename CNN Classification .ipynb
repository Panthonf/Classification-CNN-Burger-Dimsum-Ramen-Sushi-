{
 "cells": [
  {
   "cell_type": "code",
   "execution_count": 24,
   "id": "a38892aa",
   "metadata": {},
   "outputs": [],
   "source": [
    "from keras.models import Model\n",
    "from keras.layers import Input, Dense, Conv2D, MaxPool2D, Flatten, Dropout\n",
    "from keras.utils import to_categorical\n",
    "from sklearn.metrics import confusion_matrix\n",
    "from keras.optimizers import Adam\n",
    "from keras.utils.vis_utils import plot_model\n",
    "import matplotlib.pyplot as plt\n",
    "import numpy as np\n",
    "import cv2\n",
    "import os"
   ]
  },
  {
   "cell_type": "code",
   "execution_count": 25,
   "id": "ace777e4",
   "metadata": {},
   "outputs": [],
   "source": [
    "#Create model\n",
    "input = Input(shape = (50,50,1))\n",
    "conv1 = Conv2D(10,4,activation='relu')(input) #10 = features map\n",
    "dropout1 = Dropout(0.2)(conv1)\n",
    "pool1 = MaxPool2D(pool_size=(2, 2))(dropout1)\n",
    "conv2 = Conv2D(20,4,activation='relu')(pool1)\n",
    "dropout2 = Dropout(0.2)(conv2)\n",
    "pool2 = MaxPool2D(pool_size=(2, 2))(dropout2)\n",
    "flat = Flatten()(pool2)\n",
    "hidden = Dense(64, activation='relu')(flat)\n",
    "output = Dense(4, activation='softmax')(hidden)\n",
    "model = Model(inputs=input, outputs=output) #Create model"
   ]
  },
  {
   "cell_type": "code",
   "execution_count": 26,
   "id": "f8509cf2",
   "metadata": {},
   "outputs": [],
   "source": [
    "model.compile(optimizer=Adam(learning_rate=0.001),\n",
    "              loss='categorical_crossentropy',\n",
    "              metrics=['accuracy'])"
   ]
  },
  {
   "cell_type": "code",
   "execution_count": 27,
   "id": "070f1556",
   "metadata": {},
   "outputs": [
    {
     "name": "stdout",
     "output_type": "stream",
     "text": [
      "Model: \"model_1\"\n",
      "_________________________________________________________________\n",
      " Layer (type)                Output Shape              Param #   \n",
      "=================================================================\n",
      " input_2 (InputLayer)        [(None, 50, 50, 1)]       0         \n",
      "                                                                 \n",
      " conv2d_2 (Conv2D)           (None, 47, 47, 10)        170       \n",
      "                                                                 \n",
      " dropout_2 (Dropout)         (None, 47, 47, 10)        0         \n",
      "                                                                 \n",
      " max_pooling2d_2 (MaxPooling  (None, 23, 23, 10)       0         \n",
      " 2D)                                                             \n",
      "                                                                 \n",
      " conv2d_3 (Conv2D)           (None, 20, 20, 20)        3220      \n",
      "                                                                 \n",
      " dropout_3 (Dropout)         (None, 20, 20, 20)        0         \n",
      "                                                                 \n",
      " max_pooling2d_3 (MaxPooling  (None, 10, 10, 20)       0         \n",
      " 2D)                                                             \n",
      "                                                                 \n",
      " flatten_1 (Flatten)         (None, 2000)              0         \n",
      "                                                                 \n",
      " dense_2 (Dense)             (None, 64)                128064    \n",
      "                                                                 \n",
      " dense_3 (Dense)             (None, 4)                 260       \n",
      "                                                                 \n",
      "=================================================================\n",
      "Total params: 131,714\n",
      "Trainable params: 131,714\n",
      "Non-trainable params: 0\n",
      "_________________________________________________________________\n"
     ]
    }
   ],
   "source": [
    "model.summary()"
   ]
  },
  {
   "cell_type": "code",
   "execution_count": 28,
   "id": "ecac04f4",
   "metadata": {},
   "outputs": [
    {
     "name": "stdout",
     "output_type": "stream",
     "text": [
      "x_train (1600, 50, 50, 1)\n",
      "y_train (1600, 4)\n"
     ]
    }
   ],
   "source": [
    "N = 1600\n",
    "x_train = np.zeros((N, 50, 50, 1), 'float')\n",
    "y_train = np.zeros((N), 'float')\n",
    "\n",
    "count = 0\n",
    "class_labels = sorted(os.listdir(\"Dataset/train\"))\n",
    "for i, class_label in enumerate(class_labels):\n",
    "    image_files = sorted(os.listdir(os.path.join(\"Dataset/train\", class_label)))\n",
    "    for image_file in image_files:\n",
    "        im = cv2.imread(os.path.join(\"Dataset/train\", class_label, image_file), cv2.IMREAD_GRAYSCALE)\n",
    "        im = cv2.resize(im, (50, 50))\n",
    "        x_train[count, :, :, 0] = im / 255.\n",
    "        y_train[count] = i\n",
    "        count += 1\n",
    "\n",
    "y_train = to_categorical(y_train)\n",
    "print('x_train', x_train.shape)\n",
    "print('y_train', y_train.shape)"
   ]
  },
  {
   "cell_type": "code",
   "execution_count": 29,
   "id": "2129fb43",
   "metadata": {},
   "outputs": [
    {
     "name": "stdout",
     "output_type": "stream",
     "text": [
      "Epoch 1/20\n",
      "25/25 [==============================] - 1s 44ms/step - loss: 1.3816 - accuracy: 0.2919\n",
      "Epoch 2/20\n",
      "25/25 [==============================] - 1s 43ms/step - loss: 1.2693 - accuracy: 0.4363\n",
      "Epoch 3/20\n",
      "25/25 [==============================] - 1s 42ms/step - loss: 1.1527 - accuracy: 0.5063\n",
      "Epoch 4/20\n",
      "25/25 [==============================] - 1s 43ms/step - loss: 1.0990 - accuracy: 0.5150\n",
      "Epoch 5/20\n",
      "25/25 [==============================] - 1s 42ms/step - loss: 1.0110 - accuracy: 0.5663\n",
      "Epoch 6/20\n",
      "25/25 [==============================] - 1s 45ms/step - loss: 0.9729 - accuracy: 0.6031\n",
      "Epoch 7/20\n",
      "25/25 [==============================] - 1s 42ms/step - loss: 0.9010 - accuracy: 0.6363\n",
      "Epoch 8/20\n",
      "25/25 [==============================] - 1s 42ms/step - loss: 0.8746 - accuracy: 0.6369\n",
      "Epoch 9/20\n",
      "25/25 [==============================] - 1s 41ms/step - loss: 0.8417 - accuracy: 0.6625\n",
      "Epoch 10/20\n",
      "25/25 [==============================] - 1s 41ms/step - loss: 0.7731 - accuracy: 0.7031\n",
      "Epoch 11/20\n",
      "25/25 [==============================] - 1s 44ms/step - loss: 0.7507 - accuracy: 0.7069\n",
      "Epoch 12/20\n",
      "25/25 [==============================] - 1s 47ms/step - loss: 0.7091 - accuracy: 0.7287\n",
      "Epoch 13/20\n",
      "25/25 [==============================] - 1s 46ms/step - loss: 0.6976 - accuracy: 0.7231\n",
      "Epoch 14/20\n",
      "25/25 [==============================] - 1s 44ms/step - loss: 0.6524 - accuracy: 0.7475\n",
      "Epoch 15/20\n",
      "25/25 [==============================] - 1s 44ms/step - loss: 0.6147 - accuracy: 0.7731\n",
      "Epoch 16/20\n",
      "25/25 [==============================] - 1s 47ms/step - loss: 0.5920 - accuracy: 0.7800\n",
      "Epoch 17/20\n",
      "25/25 [==============================] - 1s 43ms/step - loss: 0.5906 - accuracy: 0.7788\n",
      "Epoch 18/20\n",
      "25/25 [==============================] - 1s 44ms/step - loss: 0.5505 - accuracy: 0.7881\n",
      "Epoch 19/20\n",
      "25/25 [==============================] - 1s 43ms/step - loss: 0.5181 - accuracy: 0.8075\n",
      "Epoch 20/20\n",
      "25/25 [==============================] - 1s 43ms/step - loss: 0.4919 - accuracy: 0.8213\n"
     ]
    }
   ],
   "source": [
    "#Train Model\n",
    "h = model.fit(x_train, y_train, epochs=20, batch_size=64, verbose=1)"
   ]
  },
  {
   "cell_type": "code",
   "execution_count": 30,
   "id": "0b9f21a7",
   "metadata": {},
   "outputs": [
    {
     "data": {
      "image/png": "[encoded data removed]",
      "text/plain": [
       "<Figure size 640x480 with 1 Axes>"
      ]
     },
     "metadata": {},
     "output_type": "display_data"
    }
   ],
   "source": [
    "plt.plot(h.history['accuracy'])\n",
    "plt.title('Model Accuracy')\n",
    "plt.ylabel('Accuracy')\n",
    "plt.xlabel('Epoch')\n",
    "plt.legend(['Train Accuracy'], loc='upper left')\n",
    "plt.show()"
   ]
  },
  {
   "cell_type": "code",
   "execution_count": 43,
   "id": "7ebe12e8",
   "metadata": {},
   "outputs": [
    {
     "data": {
      "image/png": "[encoded data removed]",
      "text/plain": [
       "<Figure size 640x480 with 1 Axes>"
      ]
     },
     "metadata": {},
     "output_type": "display_data"
    }
   ],
   "source": [
    "plt.plot(h.history['loss'])\n",
    "plt.title('Model Loss')\n",
    "plt.ylabel('Loss')\n",
    "plt.xlabel('Epoch')\n",
    "plt.legend(['Train Loss'], loc='upper left')\n",
    "plt.show()\n",
    "\n",
    "# model.save('my_model.h5')"
   ]
  },
  {
   "cell_type": "code",
   "execution_count": 44,
   "id": "d6d28c16",
   "metadata": {},
   "outputs": [
    {
     "name": "stdout",
     "output_type": "stream",
     "text": [
      "x_test (200, 50, 50, 1)\n",
      "y_test (200, 4)\n"
     ]
    }
   ],
   "source": [
    "N = 200\n",
    "x_test = np.zeros((N, 50, 50, 1), 'float')\n",
    "y_test = np.zeros((N), 'float')\n",
    "\n",
    "count = 0\n",
    "class_labels = sorted(os.listdir(\"Dataset/test\"))\n",
    "for i, class_label in enumerate(class_labels):\n",
    "    image_files = sorted(os.listdir(os.path.join(\"Dataset/test\", class_label)))\n",
    "    for image_file in image_files:\n",
    "        im = cv2.imread(os.path.join(\"Dataset/test\", class_label, image_file), cv2.IMREAD_GRAYSCALE)\n",
    "        im = cv2.resize(im, (50, 50))\n",
    "        x_test[count, :, :, 0] = im / 255.\n",
    "        y_test[count] = i\n",
    "        count += 1\n",
    "\n",
    "y_test = to_categorical(y_test)\n",
    "print('x_test', x_test.shape)\n",
    "print('y_test', y_test.shape)"
   ]
  },
  {
   "cell_type": "code",
   "execution_count": 45,
   "id": "d1e3f499",
   "metadata": {},
   "outputs": [
    {
     "name": "stdout",
     "output_type": "stream",
     "text": [
      "7/7 [==============================] - 0s 5ms/step\n"
     ]
    }
   ],
   "source": [
    "# Make predictions on the test data\n",
    "y_pred = model.predict(x_test)\n",
    "\n",
    "# Get the class predictions and confidence scores\n",
    "class_preds = y_pred.argmax(axis=1)\n",
    "confidences = np.max(y_pred, axis=-1)\n",
    "\n",
    "# Define the class names\n",
    "class_names = ['B', 'D', 'R', 'S']\n",
    "\n",
    "# Define the test data directory\n",
    "test_dir = 'Dataset/test/'\n",
    "\n",
    "test_images = []\n",
    "for class_folder in os.listdir(test_dir):\n",
    "    class_folder_path = os.path.join(test_dir, class_folder)\n",
    "    if os.path.isdir(class_folder_path):\n",
    "        for image_file in os.listdir(class_folder_path):\n",
    "            if image_file.endswith('.jpg'):\n",
    "                image_path = os.path.join(class_folder_path, image_file)\n",
    "                test_images.append(image_path)\n"
   ]
  },
  {
   "cell_type": "code",
   "execution_count": 46,
   "id": "1b9af351",
   "metadata": {},
   "outputs": [],
   "source": [
    "# Save the predictions to a file\n",
    "with open('predictions.txt', 'w') as f:\n",
    "    for i in range(len(test_images)):\n",
    "        image_name = os.path.basename(test_images[i])\n",
    "        class_name = class_names[class_preds[i]]\n",
    "        confidence = confidences[i]\n",
    "        f.write(\"{}: ,{}\\n\".format(\n",
    "            image_name, class_name))"
   ]
  },
  {
   "cell_type": "code",
   "execution_count": 47,
   "id": "1029b7d1",
   "metadata": {},
   "outputs": [
    {
     "name": "stdout",
     "output_type": "stream",
     "text": [
      "7/7 [==============================] - 0s 6ms/step - loss: 0.8702 - accuracy: 0.6600\n",
      "Test loss: 0.870235800743103\n",
      "Test accuracy: 66.00000262260437\n"
     ]
    }
   ],
   "source": [
    "# Evaluate model on test dataset\n",
    "loss, accuracy = model.evaluate(x_test, y_test)\n",
    "print(\"Test loss:\", loss)\n",
    "print(\"Test accuracy:\", accuracy*100)"
   ]
  },
  {
   "cell_type": "code",
   "execution_count": 48,
   "id": "6450b93e",
   "metadata": {},
   "outputs": [
    {
     "name": "stdout",
     "output_type": "stream",
     "text": [
      "Confusion Matrix:\n",
      " [[36  1  2 11]\n",
      " [ 9 21  7 13]\n",
      " [ 3  3 42  2]\n",
      " [11  4  2 33]]\n"
     ]
    }
   ],
   "source": [
    "# Compute the confusion matrix\n",
    "cm = confusion_matrix(np.argmax(y_test, axis=-1), class_preds)\n",
    "print(\"Confusion Matrix:\\n\", cm)\n"
   ]
  }
 ],
 "metadata": {
  "kernelspec": {
   "display_name": "Python 3 (ipykernel)",
   "language": "python",
   "name": "python3"
  },
  "language_info": {
   "codemirror_mode": {
    "name": "ipython",
    "version": 3
   },
   "file_extension": ".py",
   "mimetype": "text/x-python",
   "name": "python",
   "nbconvert_exporter": "python",
   "pygments_lexer": "ipython3",
   "version": "3.11.1"
  }
 },
 "nbformat": 4,
 "nbformat_minor": 5
}
