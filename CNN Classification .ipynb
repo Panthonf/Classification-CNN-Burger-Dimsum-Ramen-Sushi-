{
 "cells": [
  {
   "cell_type": "code",
   "execution_count": 1,
   "id": "a38892aa",
   "metadata": {},
   "outputs": [],
   "source": [
    "from keras.models import Model\n",
    "from keras.layers import Input, Dense, Conv2D, MaxPool2D, Flatten, Dropout, MaxPooling2D\n",
    "from keras.utils import to_categorical\n",
    "from sklearn.metrics import confusion_matrix\n",
    "from keras.optimizers import Adam\n",
    "from keras.utils.vis_utils import plot_model\n",
    "import matplotlib.pyplot as plt\n",
    "import numpy as np\n",
    "import cv2\n",
    "import os"
   ]
  },
  {
   "cell_type": "code",
   "execution_count": 2,
   "id": "ace777e4",
   "metadata": {},
   "outputs": [],
   "source": [
    "input = Input(shape=(112, 112, 1))\n",
    "conv1 = Conv2D(32, (3, 3), activation='relu')(input)\n",
    "pool1 = MaxPool2D(pool_size=(2, 2))(conv1)\n",
    "\n",
    "conv2 = Conv2D(64, (3, 3), activation='relu')(pool1)\n",
    "pool2 = MaxPool2D(pool_size=(2, 2))(conv2)\n",
    "flatten = Flatten()(pool2)\n",
    "dense1 = Dense(128, activation='relu')(flatten)\n",
    "dropout2 = Dropout(0.2)(dense1)\n",
    "output = Dense(4, activation='softmax')(dropout2)\n",
    "model = Model(inputs=input, outputs=output)"
   ]
  },
  {
   "cell_type": "code",
   "execution_count": 3,
   "id": "f8509cf2",
   "metadata": {},
   "outputs": [],
   "source": [
    "model.compile(optimizer=Adam(learning_rate=0.0001),\n",
    "              loss='categorical_crossentropy',\n",
    "              metrics=['accuracy'])"
   ]
  },
  {
   "cell_type": "code",
   "execution_count": 4,
   "id": "070f1556",
   "metadata": {},
   "outputs": [
    {
     "name": "stdout",
     "output_type": "stream",
     "text": [
      "Model: \"model\"\n",
      "_________________________________________________________________\n",
      " Layer (type)                Output Shape              Param #   \n",
      "=================================================================\n",
      " input_1 (InputLayer)        [(None, 112, 112, 1)]     0         \n",
      "                                                                 \n",
      " conv2d (Conv2D)             (None, 110, 110, 32)      320       \n",
      "                                                                 \n",
      " max_pooling2d (MaxPooling2D  (None, 55, 55, 32)       0         \n",
      " )                                                               \n",
      "                                                                 \n",
      " conv2d_1 (Conv2D)           (None, 53, 53, 64)        18496     \n",
      "                                                                 \n",
      " max_pooling2d_1 (MaxPooling  (None, 26, 26, 64)       0         \n",
      " 2D)                                                             \n",
      "                                                                 \n",
      " flatten (Flatten)           (None, 43264)             0         \n",
      "                                                                 \n",
      " dense (Dense)               (None, 128)               5537920   \n",
      "                                                                 \n",
      " dropout (Dropout)           (None, 128)               0         \n",
      "                                                                 \n",
      " dense_1 (Dense)             (None, 4)                 516       \n",
      "                                                                 \n",
      "=================================================================\n",
      "Total params: 5,557,252\n",
      "Trainable params: 5,557,252\n",
      "Non-trainable params: 0\n",
      "_________________________________________________________________\n"
     ]
    }
   ],
   "source": [
    "model.summary()"
   ]
  },
  {
   "cell_type": "code",
   "execution_count": 5,
   "id": "ecac04f4",
   "metadata": {},
   "outputs": [
    {
     "name": "stdout",
     "output_type": "stream",
     "text": [
      "x_train (1600, 112, 112, 1)\n",
      "y_train (1600, 4)\n",
      "x_valid (200, 112, 112, 1)\n",
      "y_valid (200, 4)\n"
     ]
    }
   ],
   "source": [
    "N = 1600\n",
    "x_train = np.zeros((N, 112, 112, 1), 'float')\n",
    "y_train = np.zeros((N), 'float')\n",
    "\n",
    "count = 0\n",
    "class_labels = sorted(os.listdir(\"Dataset/train\"))\n",
    "for i, class_label in enumerate(class_labels):\n",
    "    image_files = sorted(os.listdir(os.path.join(\"Dataset/train\", class_label)))\n",
    "    for image_file in image_files:\n",
    "        im = cv2.imread(os.path.join(\"Dataset/train\", class_label, image_file), cv2.IMREAD_GRAYSCALE)\n",
    "        im = cv2.resize(im, (112, 112))\n",
    "        x_train[count, :, :, 0] = im / 255.\n",
    "        y_train[count] = i\n",
    "        count += 1\n",
    "\n",
    "y_train = to_categorical(y_train)\n",
    "print('x_train', x_train.shape)\n",
    "print('y_train', y_train.shape)\n",
    "\n",
    "N2 = 200\n",
    "x_valid = np.zeros((N2, 112, 112, 1), 'float')\n",
    "y_valid = np.zeros((N2), 'float')\n",
    "\n",
    "count2 = 0\n",
    "class_labels = sorted(os.listdir(\"Dataset/val\"))\n",
    "for j, class_label in enumerate(class_labels):\n",
    "    image_files = sorted(os.listdir(os.path.join(\"Dataset/val\", class_label)))\n",
    "    for image_file in image_files:\n",
    "        im = cv2.imread(os.path.join(\"Dataset/val\", class_label, image_file), cv2.IMREAD_GRAYSCALE)\n",
    "        im = cv2.resize(im, (112, 112))\n",
    "        x_valid[count2, :, :, 0] = im / 255.\n",
    "        y_valid[count2] = j\n",
    "        count2 += 1\n",
    "\n",
    "y_valid = to_categorical(y_valid)\n",
    "print('x_valid', x_valid.shape)\n",
    "print('y_valid', y_valid.shape)"
   ]
  },
  {
   "cell_type": "code",
   "execution_count": 6,
   "id": "2129fb43",
   "metadata": {},
   "outputs": [
    {
     "name": "stdout",
     "output_type": "stream",
     "text": [
      "Epoch 1/70\n",
      "25/25 [==============================] - 12s 444ms/step - loss: 1.3936 - accuracy: 0.2756 - val_loss: 1.3417 - val_accuracy: 0.3750\n",
      "Epoch 2/70\n",
      "25/25 [==============================] - 10s 384ms/step - loss: 1.3144 - accuracy: 0.4087 - val_loss: 1.2958 - val_accuracy: 0.3800\n",
      "Epoch 3/70\n",
      "25/25 [==============================] - 10s 384ms/step - loss: 1.2586 - accuracy: 0.4600 - val_loss: 1.2476 - val_accuracy: 0.5350\n",
      "Epoch 4/70\n",
      "25/25 [==============================] - 10s 383ms/step - loss: 1.1846 - accuracy: 0.5194 - val_loss: 1.1797 - val_accuracy: 0.5700\n",
      "Epoch 5/70\n",
      "25/25 [==============================] - 10s 382ms/step - loss: 1.1092 - accuracy: 0.5587 - val_loss: 1.1685 - val_accuracy: 0.5150\n",
      "Epoch 6/70\n",
      "25/25 [==============================] - 10s 388ms/step - loss: 1.0893 - accuracy: 0.5663 - val_loss: 1.1400 - val_accuracy: 0.5600\n",
      "Epoch 7/70\n",
      "25/25 [==============================] - 10s 390ms/step - loss: 1.0153 - accuracy: 0.6062 - val_loss: 1.1150 - val_accuracy: 0.5400\n",
      "Epoch 8/70\n",
      "25/25 [==============================] - 9s 379ms/step - loss: 0.9589 - accuracy: 0.6400 - val_loss: 1.0897 - val_accuracy: 0.5500\n",
      "Epoch 9/70\n",
      "25/25 [==============================] - 10s 381ms/step - loss: 0.9136 - accuracy: 0.6650 - val_loss: 1.0756 - val_accuracy: 0.5550\n",
      "Epoch 10/70\n",
      "25/25 [==============================] - 9s 379ms/step - loss: 0.8726 - accuracy: 0.6925 - val_loss: 1.0604 - val_accuracy: 0.5850\n",
      "Epoch 11/70\n",
      "25/25 [==============================] - 9s 379ms/step - loss: 0.8488 - accuracy: 0.6900 - val_loss: 1.0442 - val_accuracy: 0.5900\n",
      "Epoch 12/70\n",
      "25/25 [==============================] - 10s 380ms/step - loss: 0.7954 - accuracy: 0.7269 - val_loss: 1.0261 - val_accuracy: 0.6100\n",
      "Epoch 13/70\n",
      "25/25 [==============================] - 9s 378ms/step - loss: 0.7606 - accuracy: 0.7500 - val_loss: 1.0340 - val_accuracy: 0.6250\n",
      "Epoch 14/70\n",
      "25/25 [==============================] - 9s 378ms/step - loss: 0.7332 - accuracy: 0.7581 - val_loss: 1.0179 - val_accuracy: 0.6150\n",
      "Epoch 15/70\n",
      "25/25 [==============================] - 10s 384ms/step - loss: 0.6903 - accuracy: 0.7775 - val_loss: 1.0077 - val_accuracy: 0.5800\n",
      "Epoch 16/70\n",
      "25/25 [==============================] - 9s 380ms/step - loss: 0.6830 - accuracy: 0.7688 - val_loss: 1.0173 - val_accuracy: 0.6200\n",
      "Epoch 17/70\n",
      "25/25 [==============================] - 9s 378ms/step - loss: 0.6460 - accuracy: 0.7844 - val_loss: 1.0002 - val_accuracy: 0.6150\n",
      "Epoch 18/70\n",
      "25/25 [==============================] - 10s 380ms/step - loss: 0.6294 - accuracy: 0.8037 - val_loss: 0.9958 - val_accuracy: 0.5750\n",
      "Epoch 19/70\n",
      "25/25 [==============================] - 10s 381ms/step - loss: 0.5886 - accuracy: 0.8106 - val_loss: 0.9846 - val_accuracy: 0.6750\n",
      "Epoch 20/70\n",
      "25/25 [==============================] - 10s 385ms/step - loss: 0.5649 - accuracy: 0.8244 - val_loss: 0.9832 - val_accuracy: 0.6350\n",
      "Epoch 21/70\n",
      "25/25 [==============================] - 10s 384ms/step - loss: 0.5365 - accuracy: 0.8425 - val_loss: 1.0003 - val_accuracy: 0.6050\n",
      "Epoch 22/70\n",
      "25/25 [==============================] - 10s 381ms/step - loss: 0.5295 - accuracy: 0.8375 - val_loss: 0.9801 - val_accuracy: 0.6700\n",
      "Epoch 23/70\n",
      "25/25 [==============================] - 9s 379ms/step - loss: 0.5094 - accuracy: 0.8475 - val_loss: 0.9780 - val_accuracy: 0.6050\n",
      "Epoch 24/70\n",
      "25/25 [==============================] - 9s 379ms/step - loss: 0.4824 - accuracy: 0.8637 - val_loss: 1.0086 - val_accuracy: 0.5850\n",
      "Epoch 25/70\n",
      "25/25 [==============================] - 10s 380ms/step - loss: 0.4616 - accuracy: 0.8644 - val_loss: 0.9903 - val_accuracy: 0.5850\n",
      "Epoch 26/70\n",
      "25/25 [==============================] - 10s 380ms/step - loss: 0.4341 - accuracy: 0.8769 - val_loss: 0.9707 - val_accuracy: 0.6150\n",
      "Epoch 27/70\n",
      "25/25 [==============================] - 9s 380ms/step - loss: 0.4235 - accuracy: 0.8756 - val_loss: 1.0266 - val_accuracy: 0.6500\n",
      "Epoch 28/70\n",
      "25/25 [==============================] - 10s 384ms/step - loss: 0.4282 - accuracy: 0.8800 - val_loss: 1.0308 - val_accuracy: 0.6700\n",
      "Epoch 29/70\n",
      "25/25 [==============================] - 9s 379ms/step - loss: 0.3818 - accuracy: 0.9013 - val_loss: 0.9846 - val_accuracy: 0.6150\n",
      "Epoch 30/70\n",
      "25/25 [==============================] - 9s 379ms/step - loss: 0.3808 - accuracy: 0.8931 - val_loss: 1.0062 - val_accuracy: 0.6500\n",
      "Epoch 31/70\n",
      "25/25 [==============================] - 9s 379ms/step - loss: 0.3665 - accuracy: 0.9006 - val_loss: 1.0104 - val_accuracy: 0.5650\n",
      "Epoch 32/70\n",
      "25/25 [==============================] - 10s 386ms/step - loss: 0.3594 - accuracy: 0.9013 - val_loss: 1.0041 - val_accuracy: 0.5950\n",
      "Epoch 33/70\n",
      "25/25 [==============================] - 10s 382ms/step - loss: 0.3222 - accuracy: 0.9212 - val_loss: 1.0069 - val_accuracy: 0.6050\n",
      "Epoch 34/70\n",
      "25/25 [==============================] - 10s 381ms/step - loss: 0.3163 - accuracy: 0.9275 - val_loss: 0.9960 - val_accuracy: 0.6350\n",
      "Epoch 35/70\n",
      "25/25 [==============================] - 9s 380ms/step - loss: 0.2926 - accuracy: 0.9362 - val_loss: 1.0186 - val_accuracy: 0.6250\n",
      "Epoch 36/70\n",
      "25/25 [==============================] - 9s 379ms/step - loss: 0.2857 - accuracy: 0.9381 - val_loss: 1.0416 - val_accuracy: 0.5750\n",
      "Epoch 37/70\n",
      "25/25 [==============================] - 10s 388ms/step - loss: 0.2749 - accuracy: 0.9431 - val_loss: 1.0251 - val_accuracy: 0.5700\n",
      "Epoch 38/70\n",
      "25/25 [==============================] - 10s 381ms/step - loss: 0.2611 - accuracy: 0.9400 - val_loss: 1.0296 - val_accuracy: 0.6250\n",
      "Epoch 39/70\n",
      "25/25 [==============================] - 10s 381ms/step - loss: 0.2400 - accuracy: 0.9475 - val_loss: 1.0567 - val_accuracy: 0.6350\n",
      "Epoch 40/70\n",
      "25/25 [==============================] - 10s 381ms/step - loss: 0.2254 - accuracy: 0.9588 - val_loss: 1.0373 - val_accuracy: 0.5900\n",
      "Epoch 41/70\n",
      "25/25 [==============================] - 10s 390ms/step - loss: 0.2134 - accuracy: 0.9656 - val_loss: 1.0557 - val_accuracy: 0.5950\n",
      "Epoch 42/70\n",
      "25/25 [==============================] - 10s 386ms/step - loss: 0.2127 - accuracy: 0.9631 - val_loss: 1.0833 - val_accuracy: 0.6300\n",
      "Epoch 43/70\n",
      "25/25 [==============================] - 10s 388ms/step - loss: 0.2119 - accuracy: 0.9581 - val_loss: 1.0842 - val_accuracy: 0.5650\n",
      "Epoch 44/70\n",
      "25/25 [==============================] - 10s 402ms/step - loss: 0.1916 - accuracy: 0.9694 - val_loss: 1.1307 - val_accuracy: 0.6050\n",
      "Epoch 45/70\n",
      "25/25 [==============================] - 10s 388ms/step - loss: 0.1895 - accuracy: 0.9675 - val_loss: 1.1273 - val_accuracy: 0.6050\n",
      "Epoch 46/70\n",
      "25/25 [==============================] - 12s 498ms/step - loss: 0.1833 - accuracy: 0.9650 - val_loss: 1.0883 - val_accuracy: 0.6300\n",
      "Epoch 47/70\n",
      " 3/25 [==>...........................] - ETA: 10s - loss: 0.1685 - accuracy: 0.9688"
     ]
    },
    {
     "ename": "KeyboardInterrupt",
     "evalue": "",
     "output_type": "error",
     "traceback": [
      "\u001b[1;31m---------------------------------------------------------------------------\u001b[0m",
      "\u001b[1;31mKeyboardInterrupt\u001b[0m                         Traceback (most recent call last)",
      "Cell \u001b[1;32mIn[6], line 2\u001b[0m\n\u001b[0;32m      1\u001b[0m \u001b[39m# Train Model\u001b[39;00m\n\u001b[1;32m----> 2\u001b[0m h \u001b[39m=\u001b[39m model\u001b[39m.\u001b[39;49mfit(x_train, y_train, validation_data\u001b[39m=\u001b[39;49m(\n\u001b[0;32m      3\u001b[0m     x_valid, y_valid), epochs\u001b[39m=\u001b[39;49m\u001b[39m70\u001b[39;49m, batch_size\u001b[39m=\u001b[39;49m\u001b[39m64\u001b[39;49m, verbose\u001b[39m=\u001b[39;49m\u001b[39m1\u001b[39;49m)\n",
      "File \u001b[1;32mc:\\Users\\Lenovo\\AppData\\Local\\Programs\\Python\\Python311\\Lib\\site-packages\\keras\\utils\\traceback_utils.py:65\u001b[0m, in \u001b[0;36mfilter_traceback.<locals>.error_handler\u001b[1;34m(*args, **kwargs)\u001b[0m\n\u001b[0;32m     63\u001b[0m filtered_tb \u001b[39m=\u001b[39m \u001b[39mNone\u001b[39;00m\n\u001b[0;32m     64\u001b[0m \u001b[39mtry\u001b[39;00m:\n\u001b[1;32m---> 65\u001b[0m     \u001b[39mreturn\u001b[39;00m fn(\u001b[39m*\u001b[39;49margs, \u001b[39m*\u001b[39;49m\u001b[39m*\u001b[39;49mkwargs)\n\u001b[0;32m     66\u001b[0m \u001b[39mexcept\u001b[39;00m \u001b[39mException\u001b[39;00m \u001b[39mas\u001b[39;00m e:\n\u001b[0;32m     67\u001b[0m     filtered_tb \u001b[39m=\u001b[39m _process_traceback_frames(e\u001b[39m.\u001b[39m__traceback__)\n",
      "File \u001b[1;32mc:\\Users\\Lenovo\\AppData\\Local\\Programs\\Python\\Python311\\Lib\\site-packages\\keras\\engine\\training.py:1685\u001b[0m, in \u001b[0;36mModel.fit\u001b[1;34m(self, x, y, batch_size, epochs, verbose, callbacks, validation_split, validation_data, shuffle, class_weight, sample_weight, initial_epoch, steps_per_epoch, validation_steps, validation_batch_size, validation_freq, max_queue_size, workers, use_multiprocessing)\u001b[0m\n\u001b[0;32m   1677\u001b[0m \u001b[39mwith\u001b[39;00m tf\u001b[39m.\u001b[39mprofiler\u001b[39m.\u001b[39mexperimental\u001b[39m.\u001b[39mTrace(\n\u001b[0;32m   1678\u001b[0m     \u001b[39m\"\u001b[39m\u001b[39mtrain\u001b[39m\u001b[39m\"\u001b[39m,\n\u001b[0;32m   1679\u001b[0m     epoch_num\u001b[39m=\u001b[39mepoch,\n\u001b[1;32m   (...)\u001b[0m\n\u001b[0;32m   1682\u001b[0m     _r\u001b[39m=\u001b[39m\u001b[39m1\u001b[39m,\n\u001b[0;32m   1683\u001b[0m ):\n\u001b[0;32m   1684\u001b[0m     callbacks\u001b[39m.\u001b[39mon_train_batch_begin(step)\n\u001b[1;32m-> 1685\u001b[0m     tmp_logs \u001b[39m=\u001b[39m \u001b[39mself\u001b[39;49m\u001b[39m.\u001b[39;49mtrain_function(iterator)\n\u001b[0;32m   1686\u001b[0m     \u001b[39mif\u001b[39;00m data_handler\u001b[39m.\u001b[39mshould_sync:\n\u001b[0;32m   1687\u001b[0m         context\u001b[39m.\u001b[39masync_wait()\n",
      "File \u001b[1;32mc:\\Users\\Lenovo\\AppData\\Local\\Programs\\Python\\Python311\\Lib\\site-packages\\tensorflow\\python\\util\\traceback_utils.py:150\u001b[0m, in \u001b[0;36mfilter_traceback.<locals>.error_handler\u001b[1;34m(*args, **kwargs)\u001b[0m\n\u001b[0;32m    148\u001b[0m filtered_tb \u001b[39m=\u001b[39m \u001b[39mNone\u001b[39;00m\n\u001b[0;32m    149\u001b[0m \u001b[39mtry\u001b[39;00m:\n\u001b[1;32m--> 150\u001b[0m   \u001b[39mreturn\u001b[39;00m fn(\u001b[39m*\u001b[39;49margs, \u001b[39m*\u001b[39;49m\u001b[39m*\u001b[39;49mkwargs)\n\u001b[0;32m    151\u001b[0m \u001b[39mexcept\u001b[39;00m \u001b[39mException\u001b[39;00m \u001b[39mas\u001b[39;00m e:\n\u001b[0;32m    152\u001b[0m   filtered_tb \u001b[39m=\u001b[39m _process_traceback_frames(e\u001b[39m.\u001b[39m__traceback__)\n",
      "File \u001b[1;32mc:\\Users\\Lenovo\\AppData\\Local\\Programs\\Python\\Python311\\Lib\\site-packages\\tensorflow\\python\\eager\\polymorphic_function\\polymorphic_function.py:894\u001b[0m, in \u001b[0;36mFunction.__call__\u001b[1;34m(self, *args, **kwds)\u001b[0m\n\u001b[0;32m    891\u001b[0m compiler \u001b[39m=\u001b[39m \u001b[39m\"\u001b[39m\u001b[39mxla\u001b[39m\u001b[39m\"\u001b[39m \u001b[39mif\u001b[39;00m \u001b[39mself\u001b[39m\u001b[39m.\u001b[39m_jit_compile \u001b[39melse\u001b[39;00m \u001b[39m\"\u001b[39m\u001b[39mnonXla\u001b[39m\u001b[39m\"\u001b[39m\n\u001b[0;32m    893\u001b[0m \u001b[39mwith\u001b[39;00m OptionalXlaContext(\u001b[39mself\u001b[39m\u001b[39m.\u001b[39m_jit_compile):\n\u001b[1;32m--> 894\u001b[0m   result \u001b[39m=\u001b[39m \u001b[39mself\u001b[39;49m\u001b[39m.\u001b[39;49m_call(\u001b[39m*\u001b[39;49margs, \u001b[39m*\u001b[39;49m\u001b[39m*\u001b[39;49mkwds)\n\u001b[0;32m    896\u001b[0m new_tracing_count \u001b[39m=\u001b[39m \u001b[39mself\u001b[39m\u001b[39m.\u001b[39mexperimental_get_tracing_count()\n\u001b[0;32m    897\u001b[0m without_tracing \u001b[39m=\u001b[39m (tracing_count \u001b[39m==\u001b[39m new_tracing_count)\n",
      "File \u001b[1;32mc:\\Users\\Lenovo\\AppData\\Local\\Programs\\Python\\Python311\\Lib\\site-packages\\tensorflow\\python\\eager\\polymorphic_function\\polymorphic_function.py:926\u001b[0m, in \u001b[0;36mFunction._call\u001b[1;34m(self, *args, **kwds)\u001b[0m\n\u001b[0;32m    923\u001b[0m   \u001b[39mself\u001b[39m\u001b[39m.\u001b[39m_lock\u001b[39m.\u001b[39mrelease()\n\u001b[0;32m    924\u001b[0m   \u001b[39m# In this case we have created variables on the first call, so we run the\u001b[39;00m\n\u001b[0;32m    925\u001b[0m   \u001b[39m# defunned version which is guaranteed to never create variables.\u001b[39;00m\n\u001b[1;32m--> 926\u001b[0m   \u001b[39mreturn\u001b[39;00m \u001b[39mself\u001b[39;49m\u001b[39m.\u001b[39;49m_no_variable_creation_fn(\u001b[39m*\u001b[39;49margs, \u001b[39m*\u001b[39;49m\u001b[39m*\u001b[39;49mkwds)  \u001b[39m# pylint: disable=not-callable\u001b[39;00m\n\u001b[0;32m    927\u001b[0m \u001b[39melif\u001b[39;00m \u001b[39mself\u001b[39m\u001b[39m.\u001b[39m_variable_creation_fn \u001b[39mis\u001b[39;00m \u001b[39mnot\u001b[39;00m \u001b[39mNone\u001b[39;00m:\n\u001b[0;32m    928\u001b[0m   \u001b[39m# Release the lock early so that multiple threads can perform the call\u001b[39;00m\n\u001b[0;32m    929\u001b[0m   \u001b[39m# in parallel.\u001b[39;00m\n\u001b[0;32m    930\u001b[0m   \u001b[39mself\u001b[39m\u001b[39m.\u001b[39m_lock\u001b[39m.\u001b[39mrelease()\n",
      "File \u001b[1;32mc:\\Users\\Lenovo\\AppData\\Local\\Programs\\Python\\Python311\\Lib\\site-packages\\tensorflow\\python\\eager\\polymorphic_function\\tracing_compiler.py:143\u001b[0m, in \u001b[0;36mTracingCompiler.__call__\u001b[1;34m(self, *args, **kwargs)\u001b[0m\n\u001b[0;32m    140\u001b[0m \u001b[39mwith\u001b[39;00m \u001b[39mself\u001b[39m\u001b[39m.\u001b[39m_lock:\n\u001b[0;32m    141\u001b[0m   (concrete_function,\n\u001b[0;32m    142\u001b[0m    filtered_flat_args) \u001b[39m=\u001b[39m \u001b[39mself\u001b[39m\u001b[39m.\u001b[39m_maybe_define_function(args, kwargs)\n\u001b[1;32m--> 143\u001b[0m \u001b[39mreturn\u001b[39;00m concrete_function\u001b[39m.\u001b[39;49m_call_flat(\n\u001b[0;32m    144\u001b[0m     filtered_flat_args, captured_inputs\u001b[39m=\u001b[39;49mconcrete_function\u001b[39m.\u001b[39;49mcaptured_inputs)\n",
      "File \u001b[1;32mc:\\Users\\Lenovo\\AppData\\Local\\Programs\\Python\\Python311\\Lib\\site-packages\\tensorflow\\python\\eager\\polymorphic_function\\monomorphic_function.py:1757\u001b[0m, in \u001b[0;36mConcreteFunction._call_flat\u001b[1;34m(self, args, captured_inputs, cancellation_manager)\u001b[0m\n\u001b[0;32m   1753\u001b[0m possible_gradient_type \u001b[39m=\u001b[39m gradients_util\u001b[39m.\u001b[39mPossibleTapeGradientTypes(args)\n\u001b[0;32m   1754\u001b[0m \u001b[39mif\u001b[39;00m (possible_gradient_type \u001b[39m==\u001b[39m gradients_util\u001b[39m.\u001b[39mPOSSIBLE_GRADIENT_TYPES_NONE\n\u001b[0;32m   1755\u001b[0m     \u001b[39mand\u001b[39;00m executing_eagerly):\n\u001b[0;32m   1756\u001b[0m   \u001b[39m# No tape is watching; skip to running the function.\u001b[39;00m\n\u001b[1;32m-> 1757\u001b[0m   \u001b[39mreturn\u001b[39;00m \u001b[39mself\u001b[39m\u001b[39m.\u001b[39m_build_call_outputs(\u001b[39mself\u001b[39;49m\u001b[39m.\u001b[39;49m_inference_function\u001b[39m.\u001b[39;49mcall(\n\u001b[0;32m   1758\u001b[0m       ctx, args, cancellation_manager\u001b[39m=\u001b[39;49mcancellation_manager))\n\u001b[0;32m   1759\u001b[0m forward_backward \u001b[39m=\u001b[39m \u001b[39mself\u001b[39m\u001b[39m.\u001b[39m_select_forward_and_backward_functions(\n\u001b[0;32m   1760\u001b[0m     args,\n\u001b[0;32m   1761\u001b[0m     possible_gradient_type,\n\u001b[0;32m   1762\u001b[0m     executing_eagerly)\n\u001b[0;32m   1763\u001b[0m forward_function, args_with_tangents \u001b[39m=\u001b[39m forward_backward\u001b[39m.\u001b[39mforward()\n",
      "File \u001b[1;32mc:\\Users\\Lenovo\\AppData\\Local\\Programs\\Python\\Python311\\Lib\\site-packages\\tensorflow\\python\\eager\\polymorphic_function\\monomorphic_function.py:381\u001b[0m, in \u001b[0;36m_EagerDefinedFunction.call\u001b[1;34m(self, ctx, args, cancellation_manager)\u001b[0m\n\u001b[0;32m    379\u001b[0m \u001b[39mwith\u001b[39;00m _InterpolateFunctionError(\u001b[39mself\u001b[39m):\n\u001b[0;32m    380\u001b[0m   \u001b[39mif\u001b[39;00m cancellation_manager \u001b[39mis\u001b[39;00m \u001b[39mNone\u001b[39;00m:\n\u001b[1;32m--> 381\u001b[0m     outputs \u001b[39m=\u001b[39m execute\u001b[39m.\u001b[39;49mexecute(\n\u001b[0;32m    382\u001b[0m         \u001b[39mstr\u001b[39;49m(\u001b[39mself\u001b[39;49m\u001b[39m.\u001b[39;49msignature\u001b[39m.\u001b[39;49mname),\n\u001b[0;32m    383\u001b[0m         num_outputs\u001b[39m=\u001b[39;49m\u001b[39mself\u001b[39;49m\u001b[39m.\u001b[39;49m_num_outputs,\n\u001b[0;32m    384\u001b[0m         inputs\u001b[39m=\u001b[39;49margs,\n\u001b[0;32m    385\u001b[0m         attrs\u001b[39m=\u001b[39;49mattrs,\n\u001b[0;32m    386\u001b[0m         ctx\u001b[39m=\u001b[39;49mctx)\n\u001b[0;32m    387\u001b[0m   \u001b[39melse\u001b[39;00m:\n\u001b[0;32m    388\u001b[0m     outputs \u001b[39m=\u001b[39m execute\u001b[39m.\u001b[39mexecute_with_cancellation(\n\u001b[0;32m    389\u001b[0m         \u001b[39mstr\u001b[39m(\u001b[39mself\u001b[39m\u001b[39m.\u001b[39msignature\u001b[39m.\u001b[39mname),\n\u001b[0;32m    390\u001b[0m         num_outputs\u001b[39m=\u001b[39m\u001b[39mself\u001b[39m\u001b[39m.\u001b[39m_num_outputs,\n\u001b[1;32m   (...)\u001b[0m\n\u001b[0;32m    393\u001b[0m         ctx\u001b[39m=\u001b[39mctx,\n\u001b[0;32m    394\u001b[0m         cancellation_manager\u001b[39m=\u001b[39mcancellation_manager)\n",
      "File \u001b[1;32mc:\\Users\\Lenovo\\AppData\\Local\\Programs\\Python\\Python311\\Lib\\site-packages\\tensorflow\\python\\eager\\execute.py:52\u001b[0m, in \u001b[0;36mquick_execute\u001b[1;34m(op_name, num_outputs, inputs, attrs, ctx, name)\u001b[0m\n\u001b[0;32m     50\u001b[0m \u001b[39mtry\u001b[39;00m:\n\u001b[0;32m     51\u001b[0m   ctx\u001b[39m.\u001b[39mensure_initialized()\n\u001b[1;32m---> 52\u001b[0m   tensors \u001b[39m=\u001b[39m pywrap_tfe\u001b[39m.\u001b[39;49mTFE_Py_Execute(ctx\u001b[39m.\u001b[39;49m_handle, device_name, op_name,\n\u001b[0;32m     53\u001b[0m                                       inputs, attrs, num_outputs)\n\u001b[0;32m     54\u001b[0m \u001b[39mexcept\u001b[39;00m core\u001b[39m.\u001b[39m_NotOkStatusException \u001b[39mas\u001b[39;00m e:\n\u001b[0;32m     55\u001b[0m   \u001b[39mif\u001b[39;00m name \u001b[39mis\u001b[39;00m \u001b[39mnot\u001b[39;00m \u001b[39mNone\u001b[39;00m:\n",
      "\u001b[1;31mKeyboardInterrupt\u001b[0m: "
     ]
    }
   ],
   "source": [
    "# Train Model\n",
    "h = model.fit(x_train, y_train, validation_data=(\n",
    "    x_valid, y_valid), epochs=70, batch_size=64, verbose=1)\n"
   ]
  },
  {
   "cell_type": "code",
   "execution_count": null,
   "id": "0b9f21a7",
   "metadata": {},
   "outputs": [
    {
     "data": {
      "image/png": "[encoded data removed]",
      "text/plain": [
       "<Figure size 640x480 with 1 Axes>"
      ]
     },
     "metadata": {},
     "output_type": "display_data"
    }
   ],
   "source": [
    "plt.plot(h.history['accuracy'])\n",
    "plt.title('Model Accuracy')\n",
    "plt.ylabel('Accuracy')\n",
    "plt.xlabel('Epoch')\n",
    "plt.legend(['Train Accuracy'], loc='upper left')\n",
    "plt.show()"
   ]
  },
  {
   "cell_type": "code",
   "execution_count": null,
   "id": "7ebe12e8",
   "metadata": {},
   "outputs": [
    {
     "data": {
      "image/png": "[encoded data removed]",
      "text/plain": [
       "<Figure size 640x480 with 1 Axes>"
      ]
     },
     "metadata": {},
     "output_type": "display_data"
    }
   ],
   "source": [
    "plt.plot(h.history['loss'])\n",
    "plt.title('Model Loss')\n",
    "plt.ylabel('Loss')\n",
    "plt.xlabel('Epoch')\n",
    "plt.legend(['Train Loss'], loc='upper left')\n",
    "plt.show()\n",
    "\n",
    "model.save('my_model2.h5')"
   ]
  },
  {
   "cell_type": "code",
   "execution_count": null,
   "id": "d6d28c16",
   "metadata": {},
   "outputs": [
    {
     "name": "stdout",
     "output_type": "stream",
     "text": [
      "x_test (200, 112, 112, 1)\n",
      "y_test (200, 4)\n"
     ]
    }
   ],
   "source": [
    "N = 200\n",
    "x_test = np.zeros((N, 112, 112, 1), 'float')\n",
    "y_test = np.zeros((N), 'float')\n",
    "\n",
    "count = 0\n",
    "class_labels = sorted(os.listdir(\"Dataset/test\"))\n",
    "for i, class_label in enumerate(class_labels):\n",
    "    image_files = sorted(os.listdir(os.path.join(\"Dataset/test\", class_label)))\n",
    "    for image_file in image_files:\n",
    "        im = cv2.imread(os.path.join(\"Dataset/test\", class_label, image_file), cv2.IMREAD_GRAYSCALE)\n",
    "        im = cv2.resize(im, (112, 112))\n",
    "        x_test[count, :, :, 0] = im / 255.\n",
    "        y_test[count] = i\n",
    "        count += 1\n",
    "\n",
    "y_test = to_categorical(y_test)\n",
    "print('x_test', x_test.shape)\n",
    "print('y_test', y_test.shape)"
   ]
  },
  {
   "cell_type": "code",
   "execution_count": null,
   "id": "d1e3f499",
   "metadata": {},
   "outputs": [
    {
     "name": "stdout",
     "output_type": "stream",
     "text": [
      "7/7 [==============================] - 0s 40ms/step\n"
     ]
    }
   ],
   "source": [
    "# Make predictions on the test data\n",
    "y_pred = model.predict(x_test)\n",
    "\n",
    "# Get the class predictions and confidence scores\n",
    "class_preds = y_pred.argmax(axis=1)\n",
    "confidences = np.max(y_pred, axis=-1)\n",
    "\n",
    "# Define the class names\n",
    "class_names = ['B', 'D', 'R', 'S']\n",
    "\n",
    "# Define the test data directory\n",
    "test_dir = 'Dataset/test/'\n",
    "\n",
    "test_images = []\n",
    "for class_folder in os.listdir(test_dir):\n",
    "    class_folder_path = os.path.join(test_dir, class_folder)\n",
    "    if os.path.isdir(class_folder_path):\n",
    "        for image_file in os.listdir(class_folder_path):\n",
    "            if image_file.endswith('.jpg'):\n",
    "                image_path = os.path.join(class_folder_path, image_file)\n",
    "                test_images.append(image_path)\n"
   ]
  },
  {
   "cell_type": "code",
   "execution_count": null,
   "id": "1b9af351",
   "metadata": {},
   "outputs": [],
   "source": [
    "# Save the predictions to a file\n",
    "with open('predictions.txt', 'w') as f:\n",
    "    for i in range(len(test_images)):\n",
    "        image_name = os.path.basename(test_images[i])\n",
    "        class_name = class_names[class_preds[i]]\n",
    "        confidence = confidences[i]\n",
    "        f.write(\"{}: ,{}\\n\".format(\n",
    "            image_name, class_name))"
   ]
  },
  {
   "cell_type": "code",
   "execution_count": null,
   "id": "1029b7d1",
   "metadata": {},
   "outputs": [
    {
     "name": "stdout",
     "output_type": "stream",
     "text": [
      "7/7 [==============================] - 0s 40ms/step - loss: 1.2391 - accuracy: 0.6050\n",
      "Test loss: 1.2391407489776611\n",
      "Test accuracy: 60.50000190734863\n"
     ]
    }
   ],
   "source": [
    "# Evaluate model on test dataset\n",
    "loss, accuracy = model.evaluate(x_test, y_test)\n",
    "print(\"Test loss:\", loss)\n",
    "print(\"Test accuracy:\", accuracy*100)"
   ]
  },
  {
   "cell_type": "code",
   "execution_count": null,
   "id": "6450b93e",
   "metadata": {},
   "outputs": [
    {
     "name": "stdout",
     "output_type": "stream",
     "text": [
      "Confusion Matrix:\n",
      " [[39  2  1  8]\n",
      " [ 8 27  4 11]\n",
      " [ 5  5 29 11]\n",
      " [10 10  4 26]]\n"
     ]
    }
   ],
   "source": [
    "# Compute the confusion matrix\n",
    "cm = confusion_matrix(np.argmax(y_test, axis=-1), class_preds)\n",
    "print(\"Confusion Matrix:\\n\", cm)\n"
   ]
  }
 ],
 "metadata": {
  "kernelspec": {
   "display_name": "Python 3 (ipykernel)",
   "language": "python",
   "name": "python3"
  },
  "language_info": {
   "codemirror_mode": {
    "name": "ipython",
    "version": 3
   },
   "file_extension": ".py",
   "mimetype": "text/x-python",
   "name": "python",
   "nbconvert_exporter": "python",
   "pygments_lexer": "ipython3",
   "version": "3.11.1"
  }
 },
 "nbformat": 4,
 "nbformat_minor": 5
}
