{
 "cells": [
  {
   "cell_type": "code",
   "execution_count": 67,
   "id": "a38892aa",
   "metadata": {},
   "outputs": [],
   "source": [
    "from keras.models import Model\n",
    "from keras.layers import Input, Dense, Conv2D, MaxPool2D, Flatten, Dropout, MaxPooling2D\n",
    "from keras.utils import to_categorical\n",
    "from sklearn.metrics import confusion_matrix\n",
    "from keras.optimizers import Adam\n",
    "from keras.utils.vis_utils import plot_model\n",
    "import matplotlib.pyplot as plt\n",
    "import numpy as np\n",
    "import cv2\n",
    "import os"
   ]
  },
  {
   "cell_type": "code",
   "execution_count": 68,
   "id": "ace777e4",
   "metadata": {},
   "outputs": [],
   "source": [
    "input = Input(shape=(112, 112, 3))\n",
    "\n",
    "# block 1\n",
    "conv1 = Conv2D(32, (3, 3), activation='relu', padding='same')(input)\n",
    "conv2 = Conv2D(32, (3, 3), activation='relu', padding='same')(conv1)\n",
    "pool1 = MaxPool2D(pool_size=(2, 2))(conv2)\n",
    "\n",
    "# block 2\n",
    "conv3 = Conv2D(64, (3, 3), activation='relu', padding='same')(pool1)\n",
    "conv4 = Conv2D(64, (3, 3), activation='relu', padding='same')(conv3)\n",
    "pool2 = MaxPool2D(pool_size=(2, 2))(conv4)\n",
    "\n",
    "# block 3\n",
    "conv5 = Conv2D(128, (3, 3), activation='relu', padding='same')(pool2)\n",
    "conv6 = Conv2D(128, (3, 3), activation='relu', padding='same')(conv5)\n",
    "pool3 = MaxPool2D(pool_size=(2, 2))(conv6)\n",
    "\n",
    "# block 4\n",
    "conv7 = Conv2D(256, (3, 3), activation='relu', padding='same')(pool3)\n",
    "conv8 = Conv2D(256, (3, 3), activation='relu', padding='same')(conv7)\n",
    "pool4 = MaxPool2D(pool_size=(2, 2))(conv8)\n",
    "\n",
    "# block 5\n",
    "flatten = Flatten()(pool4)\n",
    "dense1 = Dense(1024, activation='relu')(flatten)\n",
    "dropout1 = Dropout(0.5)(dense1)\n",
    "dense2 = Dense(512, activation='relu')(dropout1)\n",
    "dropout2 = Dropout(0.5)(dense2)\n",
    "\n",
    "# output layer\n",
    "output = Dense(4, activation='softmax')(dropout2)\n",
    "\n",
    "model = Model(inputs=input, outputs=output)"
   ]
  },
  {
   "cell_type": "code",
   "execution_count": 69,
   "id": "f8509cf2",
   "metadata": {},
   "outputs": [],
   "source": [
    "model.compile(optimizer=Adam(learning_rate=0.01),\n",
    "              loss='categorical_crossentropy',\n",
    "              metrics=['accuracy'])"
   ]
  },
  {
   "cell_type": "code",
   "execution_count": 70,
   "id": "070f1556",
   "metadata": {},
   "outputs": [
    {
     "name": "stdout",
     "output_type": "stream",
     "text": [
      "Model: \"model_6\"\n",
      "_________________________________________________________________\n",
      " Layer (type)                Output Shape              Param #   \n",
      "=================================================================\n",
      " input_7 (InputLayer)        [(None, 112, 112, 3)]     0         \n",
      "                                                                 \n",
      " conv2d_35 (Conv2D)          (None, 112, 112, 32)      896       \n",
      "                                                                 \n",
      " conv2d_36 (Conv2D)          (None, 112, 112, 32)      9248      \n",
      "                                                                 \n",
      " max_pooling2d_23 (MaxPoolin  (None, 56, 56, 32)       0         \n",
      " g2D)                                                            \n",
      "                                                                 \n",
      " conv2d_37 (Conv2D)          (None, 56, 56, 64)        18496     \n",
      "                                                                 \n",
      " conv2d_38 (Conv2D)          (None, 56, 56, 64)        36928     \n",
      "                                                                 \n",
      " max_pooling2d_24 (MaxPoolin  (None, 28, 28, 64)       0         \n",
      " g2D)                                                            \n",
      "                                                                 \n",
      " conv2d_39 (Conv2D)          (None, 28, 28, 128)       73856     \n",
      "                                                                 \n",
      " conv2d_40 (Conv2D)          (None, 28, 28, 128)       147584    \n",
      "                                                                 \n",
      " max_pooling2d_25 (MaxPoolin  (None, 14, 14, 128)      0         \n",
      " g2D)                                                            \n",
      "                                                                 \n",
      " conv2d_41 (Conv2D)          (None, 14, 14, 256)       295168    \n",
      "                                                                 \n",
      " conv2d_42 (Conv2D)          (None, 14, 14, 256)       590080    \n",
      "                                                                 \n",
      " max_pooling2d_26 (MaxPoolin  (None, 7, 7, 256)        0         \n",
      " g2D)                                                            \n",
      "                                                                 \n",
      " flatten_6 (Flatten)         (None, 12544)             0         \n",
      "                                                                 \n",
      " dense_15 (Dense)            (None, 1024)              12846080  \n",
      "                                                                 \n",
      " dropout_9 (Dropout)         (None, 1024)              0         \n",
      "                                                                 \n",
      " dense_16 (Dense)            (None, 512)               524800    \n",
      "                                                                 \n",
      " dropout_10 (Dropout)        (None, 512)               0         \n",
      "                                                                 \n",
      " dense_17 (Dense)            (None, 4)                 2052      \n",
      "                                                                 \n",
      "=================================================================\n",
      "Total params: 14,545,188\n",
      "Trainable params: 14,545,188\n",
      "Non-trainable params: 0\n",
      "_________________________________________________________________\n"
     ]
    }
   ],
   "source": [
    "model.summary()"
   ]
  },
  {
   "cell_type": "code",
   "execution_count": 71,
   "id": "ecac04f4",
   "metadata": {},
   "outputs": [
    {
     "name": "stdout",
     "output_type": "stream",
     "text": [
      "x_train (1600, 112, 112, 3)\n",
      "y_train (1600, 4)\n",
      "x_valid (200, 112, 112, 3)\n",
      "y_valid (200, 4)\n"
     ]
    }
   ],
   "source": [
    "N = 1600\n",
    "x_train = np.zeros((N, 112, 112, 3), 'float')\n",
    "y_train = np.zeros((N), 'float')\n",
    "\n",
    "count = 0\n",
    "class_labels = sorted(os.listdir(\"Dataset/train\"))\n",
    "for i, class_label in enumerate(class_labels):\n",
    "    image_files = sorted(os.listdir(os.path.join(\"Dataset/train\", class_label)))\n",
    "    for image_file in image_files:\n",
    "        im = cv2.imread(os.path.join(\"Dataset/train\", class_label, image_file))\n",
    "        im = cv2.resize(im, (112, 112))\n",
    "        x_train[count, :, :, :] = im / 255.\n",
    "        y_train[count] = i\n",
    "        count += 1\n",
    "\n",
    "y_train = to_categorical(y_train)\n",
    "print('x_train', x_train.shape)\n",
    "print('y_train', y_train.shape)\n",
    "\n",
    "N2 = 200\n",
    "x_valid = np.zeros((N2, 112, 112, 3), 'float')\n",
    "y_valid = np.zeros((N2), 'float')\n",
    "\n",
    "count2 = 0\n",
    "class_labels = sorted(os.listdir(\"Dataset/val\"))\n",
    "for j, class_label in enumerate(class_labels):\n",
    "    image_files = sorted(os.listdir(os.path.join(\"Dataset/val\", class_label)))\n",
    "    for image_file in image_files:\n",
    "        im = cv2.imread(os.path.join(\"Dataset/val\", class_label, image_file))\n",
    "        im = cv2.resize(im, (112, 112))\n",
    "        x_valid[count2, :, :, :] = im / 255.\n",
    "        y_valid[count2] = j\n",
    "        count2 += 1\n",
    "\n",
    "y_valid = to_categorical(y_valid)\n",
    "print('x_valid', x_valid.shape)\n",
    "print('y_valid', y_valid.shape)"
   ]
  },
  {
   "cell_type": "code",
   "execution_count": 72,
   "id": "2129fb43",
   "metadata": {},
   "outputs": [
    {
     "name": "stdout",
     "output_type": "stream",
     "text": [
      "Epoch 1/10\n",
      "25/25 [==============================] - 55s 2s/step - loss: 147.1099 - accuracy: 0.2425 - val_loss: 1.3882 - val_accuracy: 0.2500\n",
      "Epoch 2/10\n",
      "25/25 [==============================] - 53s 2s/step - loss: 1.3950 - accuracy: 0.2438 - val_loss: 1.3871 - val_accuracy: 0.2500\n",
      "Epoch 3/10\n",
      "25/25 [==============================] - 56s 2s/step - loss: 1.3871 - accuracy: 0.2525 - val_loss: 1.3864 - val_accuracy: 0.2500\n",
      "Epoch 4/10\n",
      "25/25 [==============================] - 58s 2s/step - loss: 1.3872 - accuracy: 0.2394 - val_loss: 1.3866 - val_accuracy: 0.2500\n",
      "Epoch 5/10\n",
      "25/25 [==============================] - 57s 2s/step - loss: 1.3875 - accuracy: 0.2506 - val_loss: 1.3864 - val_accuracy: 0.2500\n",
      "Epoch 6/10\n",
      "22/25 [=========================>....] - ETA: 6s - loss: 1.3866 - accuracy: 0.2450"
     ]
    }
   ],
   "source": [
    "# Train Model\n",
    "h = model.fit(x_train, y_train, validation_data=(\n",
    "    x_valid, y_valid), epochs=10, batch_size=64, verbose=1)\n"
   ]
  },
  {
   "cell_type": "code",
   "execution_count": null,
   "id": "0b9f21a7",
   "metadata": {},
   "outputs": [
    {
     "data": {
      "image/png": "[encoded data removed]",
      "text/plain": [
       "<Figure size 640x480 with 1 Axes>"
      ]
     },
     "metadata": {},
     "output_type": "display_data"
    }
   ],
   "source": [
    "plt.plot(h.history['accuracy'])\n",
    "plt.title('Model Accuracy')\n",
    "plt.ylabel('Accuracy')\n",
    "plt.xlabel('Epoch')\n",
    "plt.legend(['Train Accuracy'], loc='upper left')\n",
    "plt.show()"
   ]
  },
  {
   "cell_type": "code",
   "execution_count": null,
   "id": "7ebe12e8",
   "metadata": {},
   "outputs": [
    {
     "data": {
      "image/png": "[encoded data removed]",
      "text/plain": [
       "<Figure size 640x480 with 1 Axes>"
      ]
     },
     "metadata": {},
     "output_type": "display_data"
    }
   ],
   "source": [
    "plt.plot(h.history['loss'])\n",
    "plt.title('Model Loss')\n",
    "plt.ylabel('Loss')\n",
    "plt.xlabel('Epoch')\n",
    "plt.legend(['Train Loss'], loc='upper left')\n",
    "plt.show()\n",
    "\n",
    "# model.save('my_model.h5')"
   ]
  },
  {
   "cell_type": "code",
   "execution_count": null,
   "id": "d6d28c16",
   "metadata": {},
   "outputs": [
    {
     "name": "stdout",
     "output_type": "stream",
     "text": [
      "x_test (200, 112, 112, 3)\n",
      "y_test (200, 4)\n"
     ]
    }
   ],
   "source": [
    "N = 200\n",
    "x_test = np.zeros((N, 112, 112, 3), 'float')\n",
    "y_test = np.zeros((N), 'float')\n",
    "\n",
    "count = 0\n",
    "class_labels = sorted(os.listdir(\"Dataset/test\"))\n",
    "for i, class_label in enumerate(class_labels):\n",
    "    image_files = sorted(os.listdir(os.path.join(\"Dataset/test\", class_label)))\n",
    "    for image_file in image_files:\n",
    "        im = cv2.imread(os.path.join(\"Dataset/test\", class_label, image_file), cv2.IMREAD_COLOR)\n",
    "        im = cv2.resize(im, (112, 112))\n",
    "        x_test[count] = im / 255.\n",
    "        y_test[count] = i\n",
    "        count += 1\n",
    "\n",
    "y_test = to_categorical(y_test)\n",
    "print('x_test', x_test.shape)\n",
    "print('y_test', y_test.shape)"
   ]
  },
  {
   "cell_type": "code",
   "execution_count": null,
   "id": "d1e3f499",
   "metadata": {},
   "outputs": [
    {
     "name": "stdout",
     "output_type": "stream",
     "text": [
      "7/7 [==============================] - 1s 160ms/step\n"
     ]
    }
   ],
   "source": [
    "# Make predictions on the test data\n",
    "y_pred = model.predict(x_test)\n",
    "\n",
    "# Get the class predictions and confidence scores\n",
    "class_preds = y_pred.argmax(axis=1)\n",
    "confidences = np.max(y_pred, axis=-1)\n",
    "\n",
    "# Define the class names\n",
    "class_names = ['B', 'D', 'R', 'S']\n",
    "\n",
    "# Define the test data directory\n",
    "test_dir = 'Dataset/test/'\n",
    "\n",
    "test_images = []\n",
    "for class_folder in os.listdir(test_dir):\n",
    "    class_folder_path = os.path.join(test_dir, class_folder)\n",
    "    if os.path.isdir(class_folder_path):\n",
    "        for image_file in os.listdir(class_folder_path):\n",
    "            if image_file.endswith('.jpg'):\n",
    "                image_path = os.path.join(class_folder_path, image_file)\n",
    "                test_images.append(image_path)\n"
   ]
  },
  {
   "cell_type": "code",
   "execution_count": null,
   "id": "1b9af351",
   "metadata": {},
   "outputs": [],
   "source": [
    "# Save the predictions to a file\n",
    "with open('predictions.txt', 'w') as f:\n",
    "    for i in range(len(test_images)):\n",
    "        image_name = os.path.basename(test_images[i])\n",
    "        class_name = class_names[class_preds[i]]\n",
    "        confidence = confidences[i]\n",
    "        f.write(\"{}: ,{}\\n\".format(\n",
    "            image_name, class_name))"
   ]
  },
  {
   "cell_type": "code",
   "execution_count": null,
   "id": "1029b7d1",
   "metadata": {},
   "outputs": [
    {
     "name": "stdout",
     "output_type": "stream",
     "text": [
      "7/7 [==============================] - 1s 171ms/step - loss: 1.3653 - accuracy: 0.8000\n",
      "Test loss: 1.365330457687378\n",
      "Test accuracy: 80.0000011920929\n"
     ]
    }
   ],
   "source": [
    "# Evaluate model on test dataset\n",
    "loss, accuracy = model.evaluate(x_test, y_test)\n",
    "print(\"Test loss:\", loss)\n",
    "print(\"Test accuracy:\", accuracy*100)"
   ]
  },
  {
   "cell_type": "code",
   "execution_count": null,
   "id": "6450b93e",
   "metadata": {},
   "outputs": [
    {
     "name": "stdout",
     "output_type": "stream",
     "text": [
      "Confusion Matrix:\n",
      " [[45  0  2  3]\n",
      " [ 3 41  3  3]\n",
      " [ 0  9 40  1]\n",
      " [ 7  9  0 34]]\n"
     ]
    }
   ],
   "source": [
    "# Compute the confusion matrix\n",
    "cm = confusion_matrix(np.argmax(y_test, axis=-1), class_preds)\n",
    "print(\"Confusion Matrix:\\n\", cm)\n"
   ]
  }
 ],
 "metadata": {
  "kernelspec": {
   "display_name": "Python 3 (ipykernel)",
   "language": "python",
   "name": "python3"
  },
  "language_info": {
   "codemirror_mode": {
    "name": "ipython",
    "version": 3
   },
   "file_extension": ".py",
   "mimetype": "text/x-python",
   "name": "python",
   "nbconvert_exporter": "python",
   "pygments_lexer": "ipython3",
   "version": "3.11.1"
  }
 },
 "nbformat": 4,
 "nbformat_minor": 5
}
